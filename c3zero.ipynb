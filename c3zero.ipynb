{
  "cells": [
    {
      "cell_type": "code",
      "execution_count": null,
      "metadata": {
        "colab": {
          "base_uri": "https://localhost:8080/",
          "height": 1002
        },
        "id": "pnNMk4d5Nr-L",
        "outputId": "d8ef23fc-8983-43da-9dd1-ac00a08d2c11"
      },
      "outputs": [
        {
          "name": "stdout",
          "output_type": "stream",
          "text": [
            "Drive already mounted at /content/drive; to attempt to forcibly remount, call drive.mount(\"/content/drive\", force_remount=True).\n"
          ]
        },
        {
          "data": {
            "text/html": [
              "\n",
              "  <div id=\"df-43d41d8c-4b30-469d-80a2-5af5d62db819\" class=\"colab-df-container\">\n",
              "    <div>\n",
              "<style scoped>\n",
              "    .dataframe tbody tr th:only-of-type {\n",
              "        vertical-align: middle;\n",
              "    }\n",
              "\n",
              "    .dataframe tbody tr th {\n",
              "        vertical-align: top;\n",
              "    }\n",
              "\n",
              "    .dataframe thead th {\n",
              "        text-align: right;\n",
              "    }\n",
              "</style>\n",
              "<table border=\"1\" class=\"dataframe\">\n",
              "  <thead>\n",
              "    <tr style=\"text-align: right;\">\n",
              "      <th></th>\n",
              "      <th>Natural Language Question</th>\n",
              "      <th>SQL Query</th>\n",
              "    </tr>\n",
              "  </thead>\n",
              "  <tbody>\n",
              "    <tr>\n",
              "      <th>0</th>\n",
              "      <td>What is ACD total revenue?</td>\n",
              "      <td>SELECT SUM(ORDERED_REVENUE) AS ORDERED_REVENUE...</td>\n",
              "    </tr>\n",
              "    <tr>\n",
              "      <th>1</th>\n",
              "      <td>What is the total sales for each brand in YTD?</td>\n",
              "      <td>SELECT SUM(ORDERED_REVENUE) AS ORDERED_REVENUE...</td>\n",
              "    </tr>\n",
              "    <tr>\n",
              "      <th>2</th>\n",
              "      <td>What is LRP’s avg ASP?</td>\n",
              "      <td>SELECT AVG(AVERAGE_ORDERED_REVENUE_PRICE) FROM...</td>\n",
              "    </tr>\n",
              "    <tr>\n",
              "      <th>3</th>\n",
              "      <td>When the product LRP Thermal Spring Water star...</td>\n",
              "      <td>SELECT MIN(SYNDICATED_MONTH) FROM test_table W...</td>\n",
              "    </tr>\n",
              "    <tr>\n",
              "      <th>4</th>\n",
              "      <td>What is the PPM YTD for LRP Thermal Spring Water?</td>\n",
              "      <td>SELECT AVG(YTD_RETAIL_MARGIN) FROM test_table ...</td>\n",
              "    </tr>\n",
              "    <tr>\n",
              "      <th>...</th>\n",
              "      <td>...</td>\n",
              "      <td>...</td>\n",
              "    </tr>\n",
              "    <tr>\n",
              "      <th>97</th>\n",
              "      <td>What was the total YTD ordered revenue for AZZ...</td>\n",
              "      <td>SELECT SUM(ORDERED_REVENUE) AS TOTAL_ORDERED_R...</td>\n",
              "    </tr>\n",
              "    <tr>\n",
              "      <th>98</th>\n",
              "      <td>Which IT cosmetics product had the highest YTD...</td>\n",
              "      <td>SELECT DIV_PRODUCT_TITLE, MAX(RETAIL_MARGIN) A...</td>\n",
              "    </tr>\n",
              "    <tr>\n",
              "      <th>99</th>\n",
              "      <td>What was the total YTD ad spend for lancome in...</td>\n",
              "      <td>SELECT SUM(SPEND) AS TOTAL_AD_SPEND FROM test_...</td>\n",
              "    </tr>\n",
              "    <tr>\n",
              "      <th>100</th>\n",
              "      <td>What was the total number of clicks on branded...</td>\n",
              "      <td>SELECT SUM(NUMBER_CLICKS) AS TOTAL_CLICKS FROM...</td>\n",
              "    </tr>\n",
              "    <tr>\n",
              "      <th>101</th>\n",
              "      <td>What was the ASP for urban decay products in M...</td>\n",
              "      <td>SELECT AVG(AVERAGE_ORDERED_REVENUE_PRICE) AS A...</td>\n",
              "    </tr>\n",
              "  </tbody>\n",
              "</table>\n",
              "<p>102 rows × 2 columns</p>\n",
              "</div>\n",
              "    <div class=\"colab-df-buttons\">\n",
              "\n",
              "  <div class=\"colab-df-container\">\n",
              "    <button class=\"colab-df-convert\" onclick=\"convertToInteractive('df-43d41d8c-4b30-469d-80a2-5af5d62db819')\"\n",
              "            title=\"Convert this dataframe to an interactive table.\"\n",
              "            style=\"display:none;\">\n",
              "\n",
              "  <svg xmlns=\"http://www.w3.org/2000/svg\" height=\"24px\" viewBox=\"0 -960 960 960\">\n",
              "    <path d=\"M120-120v-720h720v720H120Zm60-500h600v-160H180v160Zm220 220h160v-160H400v160Zm0 220h160v-160H400v160ZM180-400h160v-160H180v160Zm440 0h160v-160H620v160ZM180-180h160v-160H180v160Zm440 0h160v-160H620v160Z\"/>\n",
              "  </svg>\n",
              "    </button>\n",
              "\n",
              "  <style>\n",
              "    .colab-df-container {\n",
              "      display:flex;\n",
              "      gap: 12px;\n",
              "    }\n",
              "\n",
              "    .colab-df-convert {\n",
              "      background-color: #E8F0FE;\n",
              "      border: none;\n",
              "      border-radius: 50%;\n",
              "      cursor: pointer;\n",
              "      display: none;\n",
              "      fill: #1967D2;\n",
              "      height: 32px;\n",
              "      padding: 0 0 0 0;\n",
              "      width: 32px;\n",
              "    }\n",
              "\n",
              "    .colab-df-convert:hover {\n",
              "      background-color: #E2EBFA;\n",
              "      box-shadow: 0px 1px 2px rgba(60, 64, 67, 0.3), 0px 1px 3px 1px rgba(60, 64, 67, 0.15);\n",
              "      fill: #174EA6;\n",
              "    }\n",
              "\n",
              "    .colab-df-buttons div {\n",
              "      margin-bottom: 4px;\n",
              "    }\n",
              "\n",
              "    [theme=dark] .colab-df-convert {\n",
              "      background-color: #3B4455;\n",
              "      fill: #D2E3FC;\n",
              "    }\n",
              "\n",
              "    [theme=dark] .colab-df-convert:hover {\n",
              "      background-color: #434B5C;\n",
              "      box-shadow: 0px 1px 3px 1px rgba(0, 0, 0, 0.15);\n",
              "      filter: drop-shadow(0px 1px 2px rgba(0, 0, 0, 0.3));\n",
              "      fill: #FFFFFF;\n",
              "    }\n",
              "  </style>\n",
              "\n",
              "    <script>\n",
              "      const buttonEl =\n",
              "        document.querySelector('#df-43d41d8c-4b30-469d-80a2-5af5d62db819 button.colab-df-convert');\n",
              "      buttonEl.style.display =\n",
              "        google.colab.kernel.accessAllowed ? 'block' : 'none';\n",
              "\n",
              "      async function convertToInteractive(key) {\n",
              "        const element = document.querySelector('#df-43d41d8c-4b30-469d-80a2-5af5d62db819');\n",
              "        const dataTable =\n",
              "          await google.colab.kernel.invokeFunction('convertToInteractive',\n",
              "                                                    [key], {});\n",
              "        if (!dataTable) return;\n",
              "\n",
              "        const docLinkHtml = 'Like what you see? Visit the ' +\n",
              "          '<a target=\"_blank\" href=https://colab.research.google.com/notebooks/data_table.ipynb>data table notebook</a>'\n",
              "          + ' to learn more about interactive tables.';\n",
              "        element.innerHTML = '';\n",
              "        dataTable['output_type'] = 'display_data';\n",
              "        await google.colab.output.renderOutput(dataTable, element);\n",
              "        const docLink = document.createElement('div');\n",
              "        docLink.innerHTML = docLinkHtml;\n",
              "        element.appendChild(docLink);\n",
              "      }\n",
              "    </script>\n",
              "  </div>\n",
              "\n",
              "\n",
              "<div id=\"df-366d7b76-79b6-442a-a436-56f1d332d12d\">\n",
              "  <button class=\"colab-df-quickchart\" onclick=\"quickchart('df-366d7b76-79b6-442a-a436-56f1d332d12d')\"\n",
              "            title=\"Suggest charts\"\n",
              "            style=\"display:none;\">\n",
              "\n",
              "<svg xmlns=\"http://www.w3.org/2000/svg\" height=\"24px\"viewBox=\"0 0 24 24\"\n",
              "     width=\"24px\">\n",
              "    <g>\n",
              "        <path d=\"M19 3H5c-1.1 0-2 .9-2 2v14c0 1.1.9 2 2 2h14c1.1 0 2-.9 2-2V5c0-1.1-.9-2-2-2zM9 17H7v-7h2v7zm4 0h-2V7h2v10zm4 0h-2v-4h2v4z\"/>\n",
              "    </g>\n",
              "</svg>\n",
              "  </button>\n",
              "\n",
              "<style>\n",
              "  .colab-df-quickchart {\n",
              "      --bg-color: #E8F0FE;\n",
              "      --fill-color: #1967D2;\n",
              "      --hover-bg-color: #E2EBFA;\n",
              "      --hover-fill-color: #174EA6;\n",
              "      --disabled-fill-color: #AAA;\n",
              "      --disabled-bg-color: #DDD;\n",
              "  }\n",
              "\n",
              "  [theme=dark] .colab-df-quickchart {\n",
              "      --bg-color: #3B4455;\n",
              "      --fill-color: #D2E3FC;\n",
              "      --hover-bg-color: #434B5C;\n",
              "      --hover-fill-color: #FFFFFF;\n",
              "      --disabled-bg-color: #3B4455;\n",
              "      --disabled-fill-color: #666;\n",
              "  }\n",
              "\n",
              "  .colab-df-quickchart {\n",
              "    background-color: var(--bg-color);\n",
              "    border: none;\n",
              "    border-radius: 50%;\n",
              "    cursor: pointer;\n",
              "    display: none;\n",
              "    fill: var(--fill-color);\n",
              "    height: 32px;\n",
              "    padding: 0;\n",
              "    width: 32px;\n",
              "  }\n",
              "\n",
              "  .colab-df-quickchart:hover {\n",
              "    background-color: var(--hover-bg-color);\n",
              "    box-shadow: 0 1px 2px rgba(60, 64, 67, 0.3), 0 1px 3px 1px rgba(60, 64, 67, 0.15);\n",
              "    fill: var(--button-hover-fill-color);\n",
              "  }\n",
              "\n",
              "  .colab-df-quickchart-complete:disabled,\n",
              "  .colab-df-quickchart-complete:disabled:hover {\n",
              "    background-color: var(--disabled-bg-color);\n",
              "    fill: var(--disabled-fill-color);\n",
              "    box-shadow: none;\n",
              "  }\n",
              "\n",
              "  .colab-df-spinner {\n",
              "    border: 2px solid var(--fill-color);\n",
              "    border-color: transparent;\n",
              "    border-bottom-color: var(--fill-color);\n",
              "    animation:\n",
              "      spin 1s steps(1) infinite;\n",
              "  }\n",
              "\n",
              "  @keyframes spin {\n",
              "    0% {\n",
              "      border-color: transparent;\n",
              "      border-bottom-color: var(--fill-color);\n",
              "      border-left-color: var(--fill-color);\n",
              "    }\n",
              "    20% {\n",
              "      border-color: transparent;\n",
              "      border-left-color: var(--fill-color);\n",
              "      border-top-color: var(--fill-color);\n",
              "    }\n",
              "    30% {\n",
              "      border-color: transparent;\n",
              "      border-left-color: var(--fill-color);\n",
              "      border-top-color: var(--fill-color);\n",
              "      border-right-color: var(--fill-color);\n",
              "    }\n",
              "    40% {\n",
              "      border-color: transparent;\n",
              "      border-right-color: var(--fill-color);\n",
              "      border-top-color: var(--fill-color);\n",
              "    }\n",
              "    60% {\n",
              "      border-color: transparent;\n",
              "      border-right-color: var(--fill-color);\n",
              "    }\n",
              "    80% {\n",
              "      border-color: transparent;\n",
              "      border-right-color: var(--fill-color);\n",
              "      border-bottom-color: var(--fill-color);\n",
              "    }\n",
              "    90% {\n",
              "      border-color: transparent;\n",
              "      border-bottom-color: var(--fill-color);\n",
              "    }\n",
              "  }\n",
              "</style>\n",
              "\n",
              "  <script>\n",
              "    async function quickchart(key) {\n",
              "      const quickchartButtonEl =\n",
              "        document.querySelector('#' + key + ' button');\n",
              "      quickchartButtonEl.disabled = true;  // To prevent multiple clicks.\n",
              "      quickchartButtonEl.classList.add('colab-df-spinner');\n",
              "      try {\n",
              "        const charts = await google.colab.kernel.invokeFunction(\n",
              "            'suggestCharts', [key], {});\n",
              "      } catch (error) {\n",
              "        console.error('Error during call to suggestCharts:', error);\n",
              "      }\n",
              "      quickchartButtonEl.classList.remove('colab-df-spinner');\n",
              "      quickchartButtonEl.classList.add('colab-df-quickchart-complete');\n",
              "    }\n",
              "    (() => {\n",
              "      let quickchartButtonEl =\n",
              "        document.querySelector('#df-366d7b76-79b6-442a-a436-56f1d332d12d button');\n",
              "      quickchartButtonEl.style.display =\n",
              "        google.colab.kernel.accessAllowed ? 'block' : 'none';\n",
              "    })();\n",
              "  </script>\n",
              "</div>\n",
              "    </div>\n",
              "  </div>\n"
            ],
            "text/plain": [
              "                             Natural Language Question  \\\n",
              "0                           What is ACD total revenue?   \n",
              "1       What is the total sales for each brand in YTD?   \n",
              "2                               What is LRP’s avg ASP?   \n",
              "3    When the product LRP Thermal Spring Water star...   \n",
              "4    What is the PPM YTD for LRP Thermal Spring Water?   \n",
              "..                                                 ...   \n",
              "97   What was the total YTD ordered revenue for AZZ...   \n",
              "98   Which IT cosmetics product had the highest YTD...   \n",
              "99   What was the total YTD ad spend for lancome in...   \n",
              "100  What was the total number of clicks on branded...   \n",
              "101  What was the ASP for urban decay products in M...   \n",
              "\n",
              "                                             SQL Query  \n",
              "0    SELECT SUM(ORDERED_REVENUE) AS ORDERED_REVENUE...  \n",
              "1    SELECT SUM(ORDERED_REVENUE) AS ORDERED_REVENUE...  \n",
              "2    SELECT AVG(AVERAGE_ORDERED_REVENUE_PRICE) FROM...  \n",
              "3    SELECT MIN(SYNDICATED_MONTH) FROM test_table W...  \n",
              "4    SELECT AVG(YTD_RETAIL_MARGIN) FROM test_table ...  \n",
              "..                                                 ...  \n",
              "97   SELECT SUM(ORDERED_REVENUE) AS TOTAL_ORDERED_R...  \n",
              "98   SELECT DIV_PRODUCT_TITLE, MAX(RETAIL_MARGIN) A...  \n",
              "99   SELECT SUM(SPEND) AS TOTAL_AD_SPEND FROM test_...  \n",
              "100  SELECT SUM(NUMBER_CLICKS) AS TOTAL_CLICKS FROM...  \n",
              "101  SELECT AVG(AVERAGE_ORDERED_REVENUE_PRICE) AS A...  \n",
              "\n",
              "[102 rows x 2 columns]"
            ]
          },
          "execution_count": 33,
          "metadata": {},
          "output_type": "execute_result"
        }
      ],
      "source": [
        "import pandas as pd\n",
        "from google.colab import drive\n",
        "drive.mount('/content/drive')\n",
        "file_path = '/content/drive/My Drive/Loreal_gpt/sql_samples.xlsx'\n",
        "df_sample = pd.read_excel(file_path, sheet_name='dataset',header=1)\n",
        "# Display the DataFrame\n",
        "q_sql=df_sample.iloc[:, 0:2][0:102]\n",
        "\n",
        "\n",
        "sql_schema=df_sample.iloc[:, 0:2][103:]\n",
        "sql_schema.columns=['Schema','type']\n",
        "q_sql"
      ]
    },
    {
      "cell_type": "code",
      "execution_count": null,
      "metadata": {
        "id": "xcXSYO66u9Nn"
      },
      "outputs": [],
      "source": [
        "sql_schema_list = sql_schema.iloc[:, 0].tolist()"
      ]
    },
    {
      "cell_type": "code",
      "execution_count": null,
      "metadata": {
        "id": "80DMdNoMuXn6"
      },
      "outputs": [],
      "source": [
        "sql_schema_list"
      ]
    },
    {
      "cell_type": "code",
      "execution_count": null,
      "metadata": {
        "id": "RrP-2XsU1P90"
      },
      "outputs": [],
      "source": [
        "question_table = q_sql.iloc[:101, :]"
      ]
    },
    {
      "cell_type": "code",
      "execution_count": null,
      "metadata": {
        "colab": {
          "base_uri": "https://localhost:8080/"
        },
        "id": "CsGJgeNVTR1Z",
        "outputId": "80370b22-aacf-4455-df3b-85ed5e18a5f3"
      },
      "outputs": [
        {
          "name": "stdout",
          "output_type": "stream",
          "text": [
            "Collecting fastparquet\n",
            "  Downloading fastparquet-2023.10.1-cp310-cp310-manylinux_2_17_x86_64.manylinux2014_x86_64.whl (1.7 MB)\n",
            "\u001b[2K     \u001b[90m━━━━━━━━━━━━━━━━━━━━━━━━━━━━━━━━━━━━━━━━\u001b[0m \u001b[32m1.7/1.7 MB\u001b[0m \u001b[31m11.1 MB/s\u001b[0m eta \u001b[36m0:00:00\u001b[0m\n",
            "\u001b[?25hRequirement already satisfied: pandas>=1.5.0 in /usr/local/lib/python3.10/dist-packages (from fastparquet) (1.5.3)\n",
            "Requirement already satisfied: numpy>=1.20.3 in /usr/local/lib/python3.10/dist-packages (from fastparquet) (1.23.5)\n",
            "Collecting cramjam>=2.3 (from fastparquet)\n",
            "  Downloading cramjam-2.7.0-cp310-cp310-manylinux_2_17_x86_64.manylinux2014_x86_64.whl (1.6 MB)\n",
            "\u001b[2K     \u001b[90m━━━━━━━━━━━━━━━━━━━━━━━━━━━━━━━━━━━━━━━━\u001b[0m \u001b[32m1.6/1.6 MB\u001b[0m \u001b[31m24.2 MB/s\u001b[0m eta \u001b[36m0:00:00\u001b[0m\n",
            "\u001b[?25hRequirement already satisfied: fsspec in /usr/local/lib/python3.10/dist-packages (from fastparquet) (2023.6.0)\n",
            "Requirement already satisfied: packaging in /usr/local/lib/python3.10/dist-packages (from fastparquet) (23.2)\n",
            "Requirement already satisfied: python-dateutil>=2.8.1 in /usr/local/lib/python3.10/dist-packages (from pandas>=1.5.0->fastparquet) (2.8.2)\n",
            "Requirement already satisfied: pytz>=2020.1 in /usr/local/lib/python3.10/dist-packages (from pandas>=1.5.0->fastparquet) (2023.3.post1)\n",
            "Requirement already satisfied: six>=1.5 in /usr/local/lib/python3.10/dist-packages (from python-dateutil>=2.8.1->pandas>=1.5.0->fastparquet) (1.16.0)\n",
            "Installing collected packages: cramjam, fastparquet\n",
            "Successfully installed cramjam-2.7.0 fastparquet-2023.10.1\n"
          ]
        }
      ],
      "source": [
        "!pip install fastparquet\n"
      ]
    },
    {
      "cell_type": "code",
      "execution_count": null,
      "metadata": {
        "id": "eY-RfOTOTldx"
      },
      "outputs": [],
      "source": [
        "import pyarrow.parquet as pq\n"
      ]
    },
    {
      "cell_type": "code",
      "execution_count": null,
      "metadata": {
        "colab": {
          "base_uri": "https://localhost:8080/"
        },
        "id": "DtdZMl7jSsjS",
        "outputId": "f2ba74d8-669a-4ddc-a60b-9f390fe16454"
      },
      "outputs": [
        {
          "data": {
            "text/plain": [
              "(1000, 276)"
            ]
          },
          "execution_count": 38,
          "metadata": {},
          "output_type": "execute_result"
        }
      ],
      "source": [
        "parquet_file = '/content/drive/My Drive/anonymized_amz_data_dashboard.parquet'\n",
        "file_path = parquet_file\n",
        "table = pq.read_table(file_path)\n",
        "\n",
        "def convert_dbdate(data):\n",
        "    return data.astype(str)\n",
        "\n",
        "converted_columns = {field.name: convert_dbdate(table[field.name]) if 'dbdate' in str(field.type) else table[field.name] for field in table.schema}\n",
        "\n",
        "df = pd.DataFrame(converted_columns)\n",
        "\n",
        "\n",
        "\n",
        "df.tail()\n",
        "df.shape"
      ]
    },
    {
      "cell_type": "code",
      "execution_count": null,
      "metadata": {
        "colab": {
          "base_uri": "https://localhost:8080/",
          "height": 760
        },
        "id": "tJYjnSjATsJ7",
        "outputId": "1e495c74-72de-4c5f-f6e1-1ba0d21b9f04"
      },
      "outputs": [
        {
          "data": {
            "text/html": [
              "\n",
              "  <div id=\"df-a1304cda-5bc9-42f8-b573-6b88b5179b9d\" class=\"colab-df-container\">\n",
              "    <div>\n",
              "<style scoped>\n",
              "    .dataframe tbody tr th:only-of-type {\n",
              "        vertical-align: middle;\n",
              "    }\n",
              "\n",
              "    .dataframe tbody tr th {\n",
              "        vertical-align: top;\n",
              "    }\n",
              "\n",
              "    .dataframe thead th {\n",
              "        text-align: right;\n",
              "    }\n",
              "</style>\n",
              "<table border=\"1\" class=\"dataframe\">\n",
              "  <thead>\n",
              "    <tr style=\"text-align: right;\">\n",
              "      <th></th>\n",
              "      <th>PROD_KEY</th>\n",
              "      <th>DIV_DIVISION</th>\n",
              "      <th>DIV_STATUS</th>\n",
              "      <th>DIV_BRAND</th>\n",
              "      <th>DIV_FRANCHISE</th>\n",
              "      <th>DIV_HERO</th>\n",
              "      <th>DIV_PRODUCT_TITLE</th>\n",
              "      <th>BEGIN_DATE</th>\n",
              "      <th>AVERAGE_SALES_PRICE</th>\n",
              "      <th>CHANGE_IN_GLANCE_VIEW_PRIOR_PERIOD</th>\n",
              "      <th>...</th>\n",
              "      <th>ORDERED_REVENUE_SAME_PERIOD_LY_MONTH</th>\n",
              "      <th>ORDERED_REVENUE_SAME_PERIOD_LY_QUARTER</th>\n",
              "      <th>ORDERED_UNITS_SAME_PERIOD_LY_MONTH</th>\n",
              "      <th>ORDERED_UNITS_SAME_PERIOD_LY_QUARTER</th>\n",
              "      <th>SUBSCRIPTION_REVENUE_SAME_PERIOD_LY_MONTH</th>\n",
              "      <th>SUBSCRIPTION_REVENUE_SAME_PERIOD_LY_QUARTER</th>\n",
              "      <th>SUBSCRIPTION_UNITS_SAME_PERIOD_LY_MONTH</th>\n",
              "      <th>SUBSCRIPTION_UNITS_SAME_PERIOD_LY_QUARTER</th>\n",
              "      <th>SUBSCRIPTIONS_SAME_PERIOD_LY_MONTH</th>\n",
              "      <th>SUBSCRIPTIONS_SAME_PERIOD_LY_QUARTER</th>\n",
              "    </tr>\n",
              "  </thead>\n",
              "  <tbody>\n",
              "    <tr>\n",
              "      <th>0</th>\n",
              "      <td>B000052WYN</td>\n",
              "      <td>CPD</td>\n",
              "      <td>Active-Keep</td>\n",
              "      <td>MAYBELLINE</td>\n",
              "      <td>ULTRA LINER</td>\n",
              "      <td>NON-HERO</td>\n",
              "      <td>Maybelline Ultra Liner Waterproof Liquid Eyeli...</td>\n",
              "      <td>2018-12-30</td>\n",
              "      <td>318.059998</td>\n",
              "      <td>-436.860016</td>\n",
              "      <td>...</td>\n",
              "      <td>NaN</td>\n",
              "      <td>NaN</td>\n",
              "      <td>NaN</td>\n",
              "      <td>NaN</td>\n",
              "      <td>NaN</td>\n",
              "      <td>NaN</td>\n",
              "      <td>NaN</td>\n",
              "      <td>NaN</td>\n",
              "      <td>NaN</td>\n",
              "      <td>NaN</td>\n",
              "    </tr>\n",
              "    <tr>\n",
              "      <th>1</th>\n",
              "      <td>B000142RBU</td>\n",
              "      <td>CPD</td>\n",
              "      <td>Inactive-Delete</td>\n",
              "      <td>SOFTSHEEN-CARSON</td>\n",
              "      <td>CARE FREE CURL</td>\n",
              "      <td>NON-HERO</td>\n",
              "      <td>Care Free Curl Instant Moisturizer With Glycer...</td>\n",
              "      <td>2021-11-07</td>\n",
              "      <td>373.139984</td>\n",
              "      <td>47.250000</td>\n",
              "      <td>...</td>\n",
              "      <td>NaN</td>\n",
              "      <td>NaN</td>\n",
              "      <td>NaN</td>\n",
              "      <td>NaN</td>\n",
              "      <td>NaN</td>\n",
              "      <td>NaN</td>\n",
              "      <td>NaN</td>\n",
              "      <td>NaN</td>\n",
              "      <td>NaN</td>\n",
              "      <td>NaN</td>\n",
              "    </tr>\n",
              "    <tr>\n",
              "      <th>2</th>\n",
              "      <td>B000142RBU</td>\n",
              "      <td>CPD</td>\n",
              "      <td>Inactive-Delete</td>\n",
              "      <td>SOFTSHEEN-CARSON</td>\n",
              "      <td>CARE FREE CURL</td>\n",
              "      <td>NON-HERO</td>\n",
              "      <td>Care Free Curl Instant Moisturizer With Glycer...</td>\n",
              "      <td>2021-11-21</td>\n",
              "      <td>242.459991</td>\n",
              "      <td>48.214287</td>\n",
              "      <td>...</td>\n",
              "      <td>NaN</td>\n",
              "      <td>NaN</td>\n",
              "      <td>NaN</td>\n",
              "      <td>NaN</td>\n",
              "      <td>NaN</td>\n",
              "      <td>NaN</td>\n",
              "      <td>NaN</td>\n",
              "      <td>NaN</td>\n",
              "      <td>NaN</td>\n",
              "      <td>NaN</td>\n",
              "    </tr>\n",
              "    <tr>\n",
              "      <th>3</th>\n",
              "      <td>B000142RBU</td>\n",
              "      <td>CPD</td>\n",
              "      <td>Inactive-Delete</td>\n",
              "      <td>SOFTSHEEN-CARSON</td>\n",
              "      <td>CARE FREE CURL</td>\n",
              "      <td>NON-HERO</td>\n",
              "      <td>Care Free Curl Instant Moisturizer With Glycer...</td>\n",
              "      <td>2021-10-31</td>\n",
              "      <td>373.139984</td>\n",
              "      <td>234.000015</td>\n",
              "      <td>...</td>\n",
              "      <td>NaN</td>\n",
              "      <td>NaN</td>\n",
              "      <td>NaN</td>\n",
              "      <td>NaN</td>\n",
              "      <td>NaN</td>\n",
              "      <td>NaN</td>\n",
              "      <td>NaN</td>\n",
              "      <td>NaN</td>\n",
              "      <td>NaN</td>\n",
              "      <td>NaN</td>\n",
              "    </tr>\n",
              "    <tr>\n",
              "      <th>4</th>\n",
              "      <td>B000142RBU</td>\n",
              "      <td>CPD</td>\n",
              "      <td>Inactive-Delete</td>\n",
              "      <td>SOFTSHEEN-CARSON</td>\n",
              "      <td>CARE FREE CURL</td>\n",
              "      <td>NON-HERO</td>\n",
              "      <td>Care Free Curl Instant Moisturizer With Glycer...</td>\n",
              "      <td>2021-11-14</td>\n",
              "      <td>373.139984</td>\n",
              "      <td>-3.600000</td>\n",
              "      <td>...</td>\n",
              "      <td>NaN</td>\n",
              "      <td>NaN</td>\n",
              "      <td>NaN</td>\n",
              "      <td>NaN</td>\n",
              "      <td>NaN</td>\n",
              "      <td>NaN</td>\n",
              "      <td>NaN</td>\n",
              "      <td>NaN</td>\n",
              "      <td>NaN</td>\n",
              "      <td>NaN</td>\n",
              "    </tr>\n",
              "    <tr>\n",
              "      <th>5</th>\n",
              "      <td>B000142RBU</td>\n",
              "      <td>CPD</td>\n",
              "      <td>Inactive-Delete</td>\n",
              "      <td>SOFTSHEEN-CARSON</td>\n",
              "      <td>CARE FREE CURL</td>\n",
              "      <td>NON-HERO</td>\n",
              "      <td>Care Free Curl Instant Moisturizer With Glycer...</td>\n",
              "      <td>2021-10-03</td>\n",
              "      <td>242.459991</td>\n",
              "      <td>288.000000</td>\n",
              "      <td>...</td>\n",
              "      <td>NaN</td>\n",
              "      <td>NaN</td>\n",
              "      <td>NaN</td>\n",
              "      <td>NaN</td>\n",
              "      <td>NaN</td>\n",
              "      <td>NaN</td>\n",
              "      <td>NaN</td>\n",
              "      <td>NaN</td>\n",
              "      <td>NaN</td>\n",
              "      <td>NaN</td>\n",
              "    </tr>\n",
              "    <tr>\n",
              "      <th>6</th>\n",
              "      <td>B000142RBU</td>\n",
              "      <td>CPD</td>\n",
              "      <td>Inactive-Delete</td>\n",
              "      <td>SOFTSHEEN-CARSON</td>\n",
              "      <td>CARE FREE CURL</td>\n",
              "      <td>NON-HERO</td>\n",
              "      <td>Care Free Curl Instant Moisturizer With Glycer...</td>\n",
              "      <td>2021-10-17</td>\n",
              "      <td>242.459991</td>\n",
              "      <td>-46.894737</td>\n",
              "      <td>...</td>\n",
              "      <td>NaN</td>\n",
              "      <td>NaN</td>\n",
              "      <td>NaN</td>\n",
              "      <td>NaN</td>\n",
              "      <td>NaN</td>\n",
              "      <td>NaN</td>\n",
              "      <td>NaN</td>\n",
              "      <td>NaN</td>\n",
              "      <td>NaN</td>\n",
              "      <td>NaN</td>\n",
              "    </tr>\n",
              "    <tr>\n",
              "      <th>7</th>\n",
              "      <td>B000142RBU</td>\n",
              "      <td>CPD</td>\n",
              "      <td>Inactive-Delete</td>\n",
              "      <td>SOFTSHEEN-CARSON</td>\n",
              "      <td>CARE FREE CURL</td>\n",
              "      <td>NON-HERO</td>\n",
              "      <td>Care Free Curl Instant Moisturizer With Glycer...</td>\n",
              "      <td>2021-10-10</td>\n",
              "      <td>242.459991</td>\n",
              "      <td>54.000000</td>\n",
              "      <td>...</td>\n",
              "      <td>NaN</td>\n",
              "      <td>NaN</td>\n",
              "      <td>NaN</td>\n",
              "      <td>NaN</td>\n",
              "      <td>NaN</td>\n",
              "      <td>NaN</td>\n",
              "      <td>NaN</td>\n",
              "      <td>NaN</td>\n",
              "      <td>NaN</td>\n",
              "      <td>NaN</td>\n",
              "    </tr>\n",
              "    <tr>\n",
              "      <th>8</th>\n",
              "      <td>B000142RBU</td>\n",
              "      <td>CPD</td>\n",
              "      <td>Inactive-Delete</td>\n",
              "      <td>SOFTSHEEN-CARSON</td>\n",
              "      <td>CARE FREE CURL</td>\n",
              "      <td>NON-HERO</td>\n",
              "      <td>Care Free Curl Instant Moisturizer With Glycer...</td>\n",
              "      <td>2021-10-24</td>\n",
              "      <td>242.459991</td>\n",
              "      <td>10.800000</td>\n",
              "      <td>...</td>\n",
              "      <td>NaN</td>\n",
              "      <td>NaN</td>\n",
              "      <td>NaN</td>\n",
              "      <td>NaN</td>\n",
              "      <td>NaN</td>\n",
              "      <td>NaN</td>\n",
              "      <td>NaN</td>\n",
              "      <td>NaN</td>\n",
              "      <td>NaN</td>\n",
              "      <td>NaN</td>\n",
              "    </tr>\n",
              "    <tr>\n",
              "      <th>9</th>\n",
              "      <td>B000142RBU</td>\n",
              "      <td>CPD</td>\n",
              "      <td>Inactive-Delete</td>\n",
              "      <td>SOFTSHEEN-CARSON</td>\n",
              "      <td>CARE FREE CURL</td>\n",
              "      <td>NON-HERO</td>\n",
              "      <td>Care Free Curl Instant Moisturizer With Glycer...</td>\n",
              "      <td>2021-12-19</td>\n",
              "      <td>373.139984</td>\n",
              "      <td>-20.032259</td>\n",
              "      <td>...</td>\n",
              "      <td>NaN</td>\n",
              "      <td>NaN</td>\n",
              "      <td>NaN</td>\n",
              "      <td>NaN</td>\n",
              "      <td>NaN</td>\n",
              "      <td>NaN</td>\n",
              "      <td>NaN</td>\n",
              "      <td>NaN</td>\n",
              "      <td>NaN</td>\n",
              "      <td>NaN</td>\n",
              "    </tr>\n",
              "  </tbody>\n",
              "</table>\n",
              "<p>10 rows × 276 columns</p>\n",
              "</div>\n",
              "    <div class=\"colab-df-buttons\">\n",
              "\n",
              "  <div class=\"colab-df-container\">\n",
              "    <button class=\"colab-df-convert\" onclick=\"convertToInteractive('df-a1304cda-5bc9-42f8-b573-6b88b5179b9d')\"\n",
              "            title=\"Convert this dataframe to an interactive table.\"\n",
              "            style=\"display:none;\">\n",
              "\n",
              "  <svg xmlns=\"http://www.w3.org/2000/svg\" height=\"24px\" viewBox=\"0 -960 960 960\">\n",
              "    <path d=\"M120-120v-720h720v720H120Zm60-500h600v-160H180v160Zm220 220h160v-160H400v160Zm0 220h160v-160H400v160ZM180-400h160v-160H180v160Zm440 0h160v-160H620v160ZM180-180h160v-160H180v160Zm440 0h160v-160H620v160Z\"/>\n",
              "  </svg>\n",
              "    </button>\n",
              "\n",
              "  <style>\n",
              "    .colab-df-container {\n",
              "      display:flex;\n",
              "      gap: 12px;\n",
              "    }\n",
              "\n",
              "    .colab-df-convert {\n",
              "      background-color: #E8F0FE;\n",
              "      border: none;\n",
              "      border-radius: 50%;\n",
              "      cursor: pointer;\n",
              "      display: none;\n",
              "      fill: #1967D2;\n",
              "      height: 32px;\n",
              "      padding: 0 0 0 0;\n",
              "      width: 32px;\n",
              "    }\n",
              "\n",
              "    .colab-df-convert:hover {\n",
              "      background-color: #E2EBFA;\n",
              "      box-shadow: 0px 1px 2px rgba(60, 64, 67, 0.3), 0px 1px 3px 1px rgba(60, 64, 67, 0.15);\n",
              "      fill: #174EA6;\n",
              "    }\n",
              "\n",
              "    .colab-df-buttons div {\n",
              "      margin-bottom: 4px;\n",
              "    }\n",
              "\n",
              "    [theme=dark] .colab-df-convert {\n",
              "      background-color: #3B4455;\n",
              "      fill: #D2E3FC;\n",
              "    }\n",
              "\n",
              "    [theme=dark] .colab-df-convert:hover {\n",
              "      background-color: #434B5C;\n",
              "      box-shadow: 0px 1px 3px 1px rgba(0, 0, 0, 0.15);\n",
              "      filter: drop-shadow(0px 1px 2px rgba(0, 0, 0, 0.3));\n",
              "      fill: #FFFFFF;\n",
              "    }\n",
              "  </style>\n",
              "\n",
              "    <script>\n",
              "      const buttonEl =\n",
              "        document.querySelector('#df-a1304cda-5bc9-42f8-b573-6b88b5179b9d button.colab-df-convert');\n",
              "      buttonEl.style.display =\n",
              "        google.colab.kernel.accessAllowed ? 'block' : 'none';\n",
              "\n",
              "      async function convertToInteractive(key) {\n",
              "        const element = document.querySelector('#df-a1304cda-5bc9-42f8-b573-6b88b5179b9d');\n",
              "        const dataTable =\n",
              "          await google.colab.kernel.invokeFunction('convertToInteractive',\n",
              "                                                    [key], {});\n",
              "        if (!dataTable) return;\n",
              "\n",
              "        const docLinkHtml = 'Like what you see? Visit the ' +\n",
              "          '<a target=\"_blank\" href=https://colab.research.google.com/notebooks/data_table.ipynb>data table notebook</a>'\n",
              "          + ' to learn more about interactive tables.';\n",
              "        element.innerHTML = '';\n",
              "        dataTable['output_type'] = 'display_data';\n",
              "        await google.colab.output.renderOutput(dataTable, element);\n",
              "        const docLink = document.createElement('div');\n",
              "        docLink.innerHTML = docLinkHtml;\n",
              "        element.appendChild(docLink);\n",
              "      }\n",
              "    </script>\n",
              "  </div>\n",
              "\n",
              "\n",
              "<div id=\"df-9e462a10-0c27-43bb-b6ef-a9f23dba7786\">\n",
              "  <button class=\"colab-df-quickchart\" onclick=\"quickchart('df-9e462a10-0c27-43bb-b6ef-a9f23dba7786')\"\n",
              "            title=\"Suggest charts\"\n",
              "            style=\"display:none;\">\n",
              "\n",
              "<svg xmlns=\"http://www.w3.org/2000/svg\" height=\"24px\"viewBox=\"0 0 24 24\"\n",
              "     width=\"24px\">\n",
              "    <g>\n",
              "        <path d=\"M19 3H5c-1.1 0-2 .9-2 2v14c0 1.1.9 2 2 2h14c1.1 0 2-.9 2-2V5c0-1.1-.9-2-2-2zM9 17H7v-7h2v7zm4 0h-2V7h2v10zm4 0h-2v-4h2v4z\"/>\n",
              "    </g>\n",
              "</svg>\n",
              "  </button>\n",
              "\n",
              "<style>\n",
              "  .colab-df-quickchart {\n",
              "      --bg-color: #E8F0FE;\n",
              "      --fill-color: #1967D2;\n",
              "      --hover-bg-color: #E2EBFA;\n",
              "      --hover-fill-color: #174EA6;\n",
              "      --disabled-fill-color: #AAA;\n",
              "      --disabled-bg-color: #DDD;\n",
              "  }\n",
              "\n",
              "  [theme=dark] .colab-df-quickchart {\n",
              "      --bg-color: #3B4455;\n",
              "      --fill-color: #D2E3FC;\n",
              "      --hover-bg-color: #434B5C;\n",
              "      --hover-fill-color: #FFFFFF;\n",
              "      --disabled-bg-color: #3B4455;\n",
              "      --disabled-fill-color: #666;\n",
              "  }\n",
              "\n",
              "  .colab-df-quickchart {\n",
              "    background-color: var(--bg-color);\n",
              "    border: none;\n",
              "    border-radius: 50%;\n",
              "    cursor: pointer;\n",
              "    display: none;\n",
              "    fill: var(--fill-color);\n",
              "    height: 32px;\n",
              "    padding: 0;\n",
              "    width: 32px;\n",
              "  }\n",
              "\n",
              "  .colab-df-quickchart:hover {\n",
              "    background-color: var(--hover-bg-color);\n",
              "    box-shadow: 0 1px 2px rgba(60, 64, 67, 0.3), 0 1px 3px 1px rgba(60, 64, 67, 0.15);\n",
              "    fill: var(--button-hover-fill-color);\n",
              "  }\n",
              "\n",
              "  .colab-df-quickchart-complete:disabled,\n",
              "  .colab-df-quickchart-complete:disabled:hover {\n",
              "    background-color: var(--disabled-bg-color);\n",
              "    fill: var(--disabled-fill-color);\n",
              "    box-shadow: none;\n",
              "  }\n",
              "\n",
              "  .colab-df-spinner {\n",
              "    border: 2px solid var(--fill-color);\n",
              "    border-color: transparent;\n",
              "    border-bottom-color: var(--fill-color);\n",
              "    animation:\n",
              "      spin 1s steps(1) infinite;\n",
              "  }\n",
              "\n",
              "  @keyframes spin {\n",
              "    0% {\n",
              "      border-color: transparent;\n",
              "      border-bottom-color: var(--fill-color);\n",
              "      border-left-color: var(--fill-color);\n",
              "    }\n",
              "    20% {\n",
              "      border-color: transparent;\n",
              "      border-left-color: var(--fill-color);\n",
              "      border-top-color: var(--fill-color);\n",
              "    }\n",
              "    30% {\n",
              "      border-color: transparent;\n",
              "      border-left-color: var(--fill-color);\n",
              "      border-top-color: var(--fill-color);\n",
              "      border-right-color: var(--fill-color);\n",
              "    }\n",
              "    40% {\n",
              "      border-color: transparent;\n",
              "      border-right-color: var(--fill-color);\n",
              "      border-top-color: var(--fill-color);\n",
              "    }\n",
              "    60% {\n",
              "      border-color: transparent;\n",
              "      border-right-color: var(--fill-color);\n",
              "    }\n",
              "    80% {\n",
              "      border-color: transparent;\n",
              "      border-right-color: var(--fill-color);\n",
              "      border-bottom-color: var(--fill-color);\n",
              "    }\n",
              "    90% {\n",
              "      border-color: transparent;\n",
              "      border-bottom-color: var(--fill-color);\n",
              "    }\n",
              "  }\n",
              "</style>\n",
              "\n",
              "  <script>\n",
              "    async function quickchart(key) {\n",
              "      const quickchartButtonEl =\n",
              "        document.querySelector('#' + key + ' button');\n",
              "      quickchartButtonEl.disabled = true;  // To prevent multiple clicks.\n",
              "      quickchartButtonEl.classList.add('colab-df-spinner');\n",
              "      try {\n",
              "        const charts = await google.colab.kernel.invokeFunction(\n",
              "            'suggestCharts', [key], {});\n",
              "      } catch (error) {\n",
              "        console.error('Error during call to suggestCharts:', error);\n",
              "      }\n",
              "      quickchartButtonEl.classList.remove('colab-df-spinner');\n",
              "      quickchartButtonEl.classList.add('colab-df-quickchart-complete');\n",
              "    }\n",
              "    (() => {\n",
              "      let quickchartButtonEl =\n",
              "        document.querySelector('#df-9e462a10-0c27-43bb-b6ef-a9f23dba7786 button');\n",
              "      quickchartButtonEl.style.display =\n",
              "        google.colab.kernel.accessAllowed ? 'block' : 'none';\n",
              "    })();\n",
              "  </script>\n",
              "</div>\n",
              "    </div>\n",
              "  </div>\n"
            ],
            "text/plain": [
              "     PROD_KEY DIV_DIVISION       DIV_STATUS         DIV_BRAND   DIV_FRANCHISE  \\\n",
              "0  B000052WYN          CPD      Active-Keep        MAYBELLINE     ULTRA LINER   \n",
              "1  B000142RBU          CPD  Inactive-Delete  SOFTSHEEN-CARSON  CARE FREE CURL   \n",
              "2  B000142RBU          CPD  Inactive-Delete  SOFTSHEEN-CARSON  CARE FREE CURL   \n",
              "3  B000142RBU          CPD  Inactive-Delete  SOFTSHEEN-CARSON  CARE FREE CURL   \n",
              "4  B000142RBU          CPD  Inactive-Delete  SOFTSHEEN-CARSON  CARE FREE CURL   \n",
              "5  B000142RBU          CPD  Inactive-Delete  SOFTSHEEN-CARSON  CARE FREE CURL   \n",
              "6  B000142RBU          CPD  Inactive-Delete  SOFTSHEEN-CARSON  CARE FREE CURL   \n",
              "7  B000142RBU          CPD  Inactive-Delete  SOFTSHEEN-CARSON  CARE FREE CURL   \n",
              "8  B000142RBU          CPD  Inactive-Delete  SOFTSHEEN-CARSON  CARE FREE CURL   \n",
              "9  B000142RBU          CPD  Inactive-Delete  SOFTSHEEN-CARSON  CARE FREE CURL   \n",
              "\n",
              "   DIV_HERO                                  DIV_PRODUCT_TITLE BEGIN_DATE  \\\n",
              "0  NON-HERO  Maybelline Ultra Liner Waterproof Liquid Eyeli... 2018-12-30   \n",
              "1  NON-HERO  Care Free Curl Instant Moisturizer With Glycer... 2021-11-07   \n",
              "2  NON-HERO  Care Free Curl Instant Moisturizer With Glycer... 2021-11-21   \n",
              "3  NON-HERO  Care Free Curl Instant Moisturizer With Glycer... 2021-10-31   \n",
              "4  NON-HERO  Care Free Curl Instant Moisturizer With Glycer... 2021-11-14   \n",
              "5  NON-HERO  Care Free Curl Instant Moisturizer With Glycer... 2021-10-03   \n",
              "6  NON-HERO  Care Free Curl Instant Moisturizer With Glycer... 2021-10-17   \n",
              "7  NON-HERO  Care Free Curl Instant Moisturizer With Glycer... 2021-10-10   \n",
              "8  NON-HERO  Care Free Curl Instant Moisturizer With Glycer... 2021-10-24   \n",
              "9  NON-HERO  Care Free Curl Instant Moisturizer With Glycer... 2021-12-19   \n",
              "\n",
              "   AVERAGE_SALES_PRICE  CHANGE_IN_GLANCE_VIEW_PRIOR_PERIOD  ...  \\\n",
              "0           318.059998                         -436.860016  ...   \n",
              "1           373.139984                           47.250000  ...   \n",
              "2           242.459991                           48.214287  ...   \n",
              "3           373.139984                          234.000015  ...   \n",
              "4           373.139984                           -3.600000  ...   \n",
              "5           242.459991                          288.000000  ...   \n",
              "6           242.459991                          -46.894737  ...   \n",
              "7           242.459991                           54.000000  ...   \n",
              "8           242.459991                           10.800000  ...   \n",
              "9           373.139984                          -20.032259  ...   \n",
              "\n",
              "   ORDERED_REVENUE_SAME_PERIOD_LY_MONTH  \\\n",
              "0                                   NaN   \n",
              "1                                   NaN   \n",
              "2                                   NaN   \n",
              "3                                   NaN   \n",
              "4                                   NaN   \n",
              "5                                   NaN   \n",
              "6                                   NaN   \n",
              "7                                   NaN   \n",
              "8                                   NaN   \n",
              "9                                   NaN   \n",
              "\n",
              "   ORDERED_REVENUE_SAME_PERIOD_LY_QUARTER  ORDERED_UNITS_SAME_PERIOD_LY_MONTH  \\\n",
              "0                                     NaN                                 NaN   \n",
              "1                                     NaN                                 NaN   \n",
              "2                                     NaN                                 NaN   \n",
              "3                                     NaN                                 NaN   \n",
              "4                                     NaN                                 NaN   \n",
              "5                                     NaN                                 NaN   \n",
              "6                                     NaN                                 NaN   \n",
              "7                                     NaN                                 NaN   \n",
              "8                                     NaN                                 NaN   \n",
              "9                                     NaN                                 NaN   \n",
              "\n",
              "   ORDERED_UNITS_SAME_PERIOD_LY_QUARTER  \\\n",
              "0                                   NaN   \n",
              "1                                   NaN   \n",
              "2                                   NaN   \n",
              "3                                   NaN   \n",
              "4                                   NaN   \n",
              "5                                   NaN   \n",
              "6                                   NaN   \n",
              "7                                   NaN   \n",
              "8                                   NaN   \n",
              "9                                   NaN   \n",
              "\n",
              "   SUBSCRIPTION_REVENUE_SAME_PERIOD_LY_MONTH  \\\n",
              "0                                        NaN   \n",
              "1                                        NaN   \n",
              "2                                        NaN   \n",
              "3                                        NaN   \n",
              "4                                        NaN   \n",
              "5                                        NaN   \n",
              "6                                        NaN   \n",
              "7                                        NaN   \n",
              "8                                        NaN   \n",
              "9                                        NaN   \n",
              "\n",
              "   SUBSCRIPTION_REVENUE_SAME_PERIOD_LY_QUARTER  \\\n",
              "0                                          NaN   \n",
              "1                                          NaN   \n",
              "2                                          NaN   \n",
              "3                                          NaN   \n",
              "4                                          NaN   \n",
              "5                                          NaN   \n",
              "6                                          NaN   \n",
              "7                                          NaN   \n",
              "8                                          NaN   \n",
              "9                                          NaN   \n",
              "\n",
              "   SUBSCRIPTION_UNITS_SAME_PERIOD_LY_MONTH  \\\n",
              "0                                      NaN   \n",
              "1                                      NaN   \n",
              "2                                      NaN   \n",
              "3                                      NaN   \n",
              "4                                      NaN   \n",
              "5                                      NaN   \n",
              "6                                      NaN   \n",
              "7                                      NaN   \n",
              "8                                      NaN   \n",
              "9                                      NaN   \n",
              "\n",
              "   SUBSCRIPTION_UNITS_SAME_PERIOD_LY_QUARTER  \\\n",
              "0                                        NaN   \n",
              "1                                        NaN   \n",
              "2                                        NaN   \n",
              "3                                        NaN   \n",
              "4                                        NaN   \n",
              "5                                        NaN   \n",
              "6                                        NaN   \n",
              "7                                        NaN   \n",
              "8                                        NaN   \n",
              "9                                        NaN   \n",
              "\n",
              "   SUBSCRIPTIONS_SAME_PERIOD_LY_MONTH  SUBSCRIPTIONS_SAME_PERIOD_LY_QUARTER  \n",
              "0                                 NaN                                   NaN  \n",
              "1                                 NaN                                   NaN  \n",
              "2                                 NaN                                   NaN  \n",
              "3                                 NaN                                   NaN  \n",
              "4                                 NaN                                   NaN  \n",
              "5                                 NaN                                   NaN  \n",
              "6                                 NaN                                   NaN  \n",
              "7                                 NaN                                   NaN  \n",
              "8                                 NaN                                   NaN  \n",
              "9                                 NaN                                   NaN  \n",
              "\n",
              "[10 rows x 276 columns]"
            ]
          },
          "execution_count": 39,
          "metadata": {},
          "output_type": "execute_result"
        }
      ],
      "source": [
        "df[0:10]"
      ]
    },
    {
      "cell_type": "code",
      "execution_count": null,
      "metadata": {
        "id": "ukHN9DEbC-GZ"
      },
      "outputs": [],
      "source": [
        "!pip install openai pandas\n"
      ]
    },
    {
      "cell_type": "code",
      "execution_count": null,
      "metadata": {
        "id": "WiBeJjVbz2AW"
      },
      "outputs": [],
      "source": [
        "questions = []\n",
        "qm_path = \"/content/drive/MyDrive/Loreal_gpt/Question_match.txt\"\n",
        "with open(qm_path, \"r\") as file:\n",
        "    lines = file.readlines()\n",
        "    current_question = {}\n",
        "    for line in lines:\n",
        "        line = line.strip()\n",
        "        if line.startswith(\"Question:\"):\n",
        "            current_question[\"Question\"] = line.replace(\"Question: \", \"\")\n",
        "        elif line.startswith(\"SQL Column Match:\"):\n",
        "            continue\n",
        "        elif line.startswith(\"Explanation:\"):\n",
        "            continue\n",
        "        elif not line:\n",
        "            questions.append(current_question)\n",
        "            current_question = {}\n",
        "\n",
        "# Print the extracted data as a list of dictionaries\n",
        "\n"
      ]
    },
    {
      "cell_type": "code",
      "execution_count": null,
      "metadata": {
        "colab": {
          "base_uri": "https://localhost:8080/"
        },
        "id": "i24HOLmO1nvh",
        "outputId": "a0c3de4a-e2e3-4820-d18a-d01aec7a9b81"
      },
      "outputs": [
        {
          "data": {
            "text/plain": [
              "[{'Question': 'What is ACD total revenue?'},\n",
              " {'Question': 'What is the total sales for each brand in YTD?'},\n",
              " {'Question': 'What is LRP’s avg ASP?'},\n",
              " {'Question': 'When the product LRP Thermal Spring Water started selling?'},\n",
              " {'Question': 'What is the PPM YTD for LRP Thermal Spring Water?'},\n",
              " {'Question': 'What are the top 10 selling brands?'},\n",
              " {'Question': 'What are the 3 best products in Skin Care?'},\n",
              " {'Question': 'How many skus does LRP have?'},\n",
              " {'Question': 'what about ACD?'},\n",
              " {'Question': 'What are the worst SKUs in ACD?'},\n",
              " {'Question': 'What is the total revenue for each category?'},\n",
              " {'Question': 'What are the top 3 products with the top ASP in Makeup?'},\n",
              " {'Question': 'What is the total number of units sold for each division?'},\n",
              " {'Question': 'What is the avg retail margin for each brand in SkinC?'},\n",
              " {'Question': 'Which product has the highest retail margin in Fragrances?'},\n",
              " {'Question': 'What is the total revenue for LOP in Hair?'},\n",
              " {'Question': 'What are the top 5 products with the highest revenue growth between 22 and 23 in the SkinC?'},\n",
              " {'Question': 'What are the top 3 brands with the largest increase in units sold between 21 and 22 in Cosmetics?'},\n",
              " {'Question': 'What are the top 5 products with the highest average sales price in Hair Care?'},\n",
              " {'Question': 'Which brand has the highest average retail margin across all divisions?'},\n",
              " {'Question': 'What are the top 3 products with the highest revenue growth in Hair Care, having at least 10% growth between 22 and 23?'},\n",
              " {'Question': 'How much revenue did Facial SkinC generate?'},\n",
              " {'Question': 'Which product had the highest sales in Skin?'},\n",
              " {'Question': 'Can you tell me the ASP for each brand in the Hair?'},\n",
              " {'Question': 'What were the top-selling brands in Makeup ytd?'},\n",
              " {'Question': 'How many units were sold for each product in SkinC in 22?'},\n",
              " {'Question': 'Top 3 brands?'},\n",
              " {'Question': 'Most units sold, Hair Color?'},\n",
              " {'Question': 'Highest retail margin, Makeup?'},\n",
              " {'Question': 'Total units sold, Facial Skinc?'},\n",
              " {'Question': 'Least revenue, Color Cosmetics?'},\n",
              " {'Question': 'Most expensive, nail product?'},\n",
              " {'Question': 'Average price, top 5 ACD products?'},\n",
              " {'Question': 'Most units sold, LPD?'},\n",
              " {'Question': 'Top 3 products, revenue, Cosmetics?'},\n",
              " {'Question': 'Highest retail margin CC?'},\n",
              " {'Question': 'Total revenue, bottom 5 HC products?'},\n",
              " {'Question': 'Average price, Skin?'},\n",
              " {'Question': 'Top product, units sold, Styling?'},\n",
              " {'Question': 'Lowest retail margin, Color Cosmetics?'},\n",
              " {'Question': 'Total revenue, CPD?'},\n",
              " {'Question': 'Cheapest product, skin?'},\n",
              " {'Question': 'Top 5 brands, units sold, FC?'},\n",
              " {'Question': 'Highest asp, FR?'},\n",
              " {'Question': 'Top 3 products, highest PPM?'},\n",
              " {'Question': 'Highest GV product, Hair?'},\n",
              " {'Question': 'Top 5 products, CVR, FR?'},\n",
              " {'Question': 'Most OOS days, Hair Color?'},\n",
              " {'Question': 'Highest chargebacks, Facial?'},\n",
              " {'Question': 'Most PO requested qty, Skin C?'},\n",
              " {'Question': 'Total ad spend, color cosm?'},\n",
              " {'Question': 'Highest CVR product, CPD?'},\n",
              " {'Question': 'Most chargebacks, Makeup?'},\n",
              " {'Question': 'Top 5 products, most GV, Cosm?'},\n",
              " {'Question': 'Lowest PPM Brand, Hair Care?'},\n",
              " {'Question': 'Highest brand shipping fee?'},\n",
              " {'Question': 'Top 3 brands, most GV, HairC?'},\n",
              " {'Question': 'Highest CVR brand?'},\n",
              " {'Question': 'Most OOS days, fskinc?'},\n",
              " {'Question': 'Lowest retail margin brand, Skin Care?'},\n",
              " {'Question': 'Most units sold, Makeup, ACD?'},\n",
              " {'Question': 'Highest MSRP product, Hair Col?'},\n",
              " {'Question': 'Top 5 products, most chargebacks, ACD?'},\n",
              " {'Question': 'Which product in Skin Care had the highest retail margin?'},\n",
              " {'Question': 'What was the total ad spend for the Hair Color, CPD in 19?'},\n",
              " {'Question': 'Which product in Hair Care had the most out-of-stock days in 21?'},\n",
              " {'Question': 'What were the top 3 brands with the highest conversion rate in Mkp?'},\n",
              " {},\n",
              " {'Question': 'What was the highest spend on competitive ads in LPD?'},\n",
              " {'Question': 'Which product had the highest avg price in SkinC?'},\n",
              " {'Question': 'What are the top 5 products with the most glance views in Hair Care for Q1?'},\n",
              " {'Question': 'Which brand had the highest ordered revenue in Cosmetics?'},\n",
              " {'Question': 'What was the total number of clicks on branded ads in Mkp?'},\n",
              " {'Question': 'Which brand had the highest sellable on-hand inventory in Hair Care in May 22?'},\n",
              " {'Question': 'What was the highest spend on auto ads in the Col Cosm?'},\n",
              " {'Question': 'Which product in skinc had the highest ordered revenue ytd?'},\n",
              " {'Question': 'What were the top 3 products with the highest net margin in Makeup?'},\n",
              " {'Question': 'What were the top 3 products with the most GV in Hair Care in Q1 21?'},\n",
              " {'Question': 'Which product had the highest YTD retail margin in Fac Skinc?'},\n",
              " {'Question': 'What was the total number of clicks on branded ads in Make in Q2 2019?'},\n",
              " {'Question': 'Which prod was that?'},\n",
              " {'Question': 'Which brand?'},\n",
              " {'Question': 'Which brand had the highest YTD rev in ACD?'},\n",
              " {'Question': 'What were the top 5 brands with the highest # of units sold for Q3 2019?'},\n",
              " {'Question': 'Which product had the lowest YTD net PPM in 2020 Q4?'},\n",
              " {'Question': 'What was the total YTD ad spend in ACD for skincare?'},\n",
              " {'Question': 'Which product had the highest asp in the facial in Q3 21?'},\n",
              " {'Question': 'What was the total number of units ordered for Kerastase in Q4 2022?'},\n",
              " {'Question': 'Which product in NYX had the highest average CVR in  Q1 19?'},\n",
              " {'Question': 'What were the top 5 products with the most units sold in ACD for skincare ytd?'},\n",
              " {'Question': 'Which product had the highest YTD spend on competitive ads in haircare?'},\n",
              " {'Question': 'What was the total ordered revenue for MAYBELLINE in January 19?'},\n",
              " {'Question': 'What is the yoy change in ordered revenue for Azzaro?'},\n",
              " {'Question': 'What about in %?'},\n",
              " {'Question': 'Which product had the highest YTD net PPM in hair color for CPD?'},\n",
              " {'Question': 'What was the total number of clicks on branded ads in Hair Care in Feb 20?'},\n",
              " {'Question': 'What were the top 5 products with the highest YTD ordered revenue in the Skin Care category in the ACD division?'},\n",
              " {'Question': 'What was the total YTD ordered revenue for AZZARO in FR Q1 2019?'},\n",
              " {'Question': 'Which IT cosmetics product had the highest YTD net PPM in Makeup in Q2 2022?'},\n",
              " {'Question': 'What was the total YTD ad spend for lancome in the Skin Care category in Q1?'},\n",
              " {'Question': 'What was the total number of clicks on branded ads for ralph lauren products in Fragrance, Q4 2019?'}]"
            ]
          },
          "execution_count": 45,
          "metadata": {},
          "output_type": "execute_result"
        }
      ],
      "source": [
        "questions"
      ]
    },
    {
      "cell_type": "code",
      "execution_count": null,
      "metadata": {
        "colab": {
          "base_uri": "https://localhost:8080/"
        },
        "id": "LSPAaDyaz2E0",
        "outputId": "a842ad17-e053-4b35-c167-a38d875041fc"
      },
      "outputs": [
        {
          "name": "stdout",
          "output_type": "stream",
          "text": [
            "                                              Question  \\\n",
            "0                           What is ACD total revenue?   \n",
            "1       What is the total sales for each brand in YTD?   \n",
            "2                               What is LRP’s avg ASP?   \n",
            "3    When the product LRP Thermal Spring Water star...   \n",
            "4    What is the PPM YTD for LRP Thermal Spring Water?   \n",
            "..                                                 ...   \n",
            "96   What were the top 5 products with the highest ...   \n",
            "97   What was the total YTD ordered revenue for AZZ...   \n",
            "98   Which IT cosmetics product had the highest YTD...   \n",
            "99   What was the total YTD ad spend for lancome in...   \n",
            "100  What was the total number of clicks on branded...   \n",
            "\n",
            "                                             SQL Query  \n",
            "0    SELECT SUM(ORDERED_REVENUE) AS ORDERED_REVENUE...  \n",
            "1    SELECT SUM(ORDERED_REVENUE) AS ORDERED_REVENUE...  \n",
            "2    SELECT AVG(AVERAGE_ORDERED_REVENUE_PRICE) FROM...  \n",
            "3    SELECT MIN(SYNDICATED_MONTH) FROM test_table W...  \n",
            "4    SELECT AVG(YTD_RETAIL_MARGIN) FROM test_table ...  \n",
            "..                                                 ...  \n",
            "96   SELECT DIV_PRODUCT_TITLE, SUM(ORDERED_REVENUE)...  \n",
            "97   SELECT SUM(ORDERED_REVENUE) AS TOTAL_ORDERED_R...  \n",
            "98   SELECT DIV_PRODUCT_TITLE, MAX(RETAIL_MARGIN) A...  \n",
            "99   SELECT SUM(SPEND) AS TOTAL_AD_SPEND FROM test_...  \n",
            "100  SELECT SUM(NUMBER_CLICKS) AS TOTAL_CLICKS FROM...  \n",
            "\n",
            "[101 rows x 2 columns]\n"
          ]
        }
      ],
      "source": [
        "import pandas as pd\n",
        "\n",
        "# Assuming 'questions' is your list of dictionaries\n",
        "questions_df = pd.DataFrame(questions)\n",
        "\n",
        "# Display the DataFrame\n",
        "\n",
        "questions_df[\"SQL Query\"] = question_table[\"SQL Query\"]\n",
        "print(questions_df)"
      ]
    },
    {
      "cell_type": "code",
      "execution_count": null,
      "metadata": {
        "colab": {
          "base_uri": "https://localhost:8080/"
        },
        "id": "AUXeRzWL5A87",
        "outputId": "d31242a0-03cf-4e2d-cb4c-7e3bed9e6fdc"
      },
      "outputs": [
        {
          "name": "stdout",
          "output_type": "stream",
          "text": [
            "Requirement already satisfied: openai in /usr/local/lib/python3.10/dist-packages (1.4.0)\n",
            "Requirement already satisfied: anyio<5,>=3.5.0 in /usr/local/lib/python3.10/dist-packages (from openai) (3.7.1)\n",
            "Requirement already satisfied: distro<2,>=1.7.0 in /usr/lib/python3/dist-packages (from openai) (1.7.0)\n",
            "Requirement already satisfied: httpx<1,>=0.23.0 in /usr/local/lib/python3.10/dist-packages (from openai) (0.25.2)\n",
            "Requirement already satisfied: pydantic<3,>=1.9.0 in /usr/local/lib/python3.10/dist-packages (from openai) (1.10.13)\n",
            "Requirement already satisfied: sniffio in /usr/local/lib/python3.10/dist-packages (from openai) (1.3.0)\n",
            "Requirement already satisfied: tqdm>4 in /usr/local/lib/python3.10/dist-packages (from openai) (4.66.1)\n",
            "Requirement already satisfied: typing-extensions<5,>=4.5 in /usr/local/lib/python3.10/dist-packages (from openai) (4.5.0)\n",
            "Requirement already satisfied: idna>=2.8 in /usr/local/lib/python3.10/dist-packages (from anyio<5,>=3.5.0->openai) (3.6)\n",
            "Requirement already satisfied: exceptiongroup in /usr/local/lib/python3.10/dist-packages (from anyio<5,>=3.5.0->openai) (1.2.0)\n",
            "Requirement already satisfied: certifi in /usr/local/lib/python3.10/dist-packages (from httpx<1,>=0.23.0->openai) (2023.11.17)\n",
            "Requirement already satisfied: httpcore==1.* in /usr/local/lib/python3.10/dist-packages (from httpx<1,>=0.23.0->openai) (1.0.2)\n",
            "Requirement already satisfied: h11<0.15,>=0.13 in /usr/local/lib/python3.10/dist-packages (from httpcore==1.*->httpx<1,>=0.23.0->openai) (0.14.0)\n"
          ]
        }
      ],
      "source": [
        "!pip install openai\n"
      ]
    },
    {
      "cell_type": "code",
      "execution_count": null,
      "metadata": {
        "colab": {
          "base_uri": "https://localhost:8080/"
        },
        "id": "YcfvEk77CvH6",
        "outputId": "b572bd24-ff11-4658-d87a-15919c312f4e"
      },
      "outputs": [],
      "source": [
        "%env OPENAI_API_KEY="
      ]
    },
    {
      "cell_type": "code",
      "execution_count": null,
      "metadata": {
        "colab": {
          "base_uri": "https://localhost:8080/"
        },
        "id": "cArub9igD474",
        "outputId": "cccd3486-fee8-4b84-a963-7842df0cfbcc"
      },
      "outputs": [
        {
          "name": "stderr",
          "output_type": "stream",
          "text": [
            "  1%|          | 1/101 [00:02<03:35,  2.16s/it]"
          ]
        },
        {
          "name": "stdout",
          "output_type": "stream",
          "text": [
            "[]\n",
            "[(2018, 3358.2001953125, None, None), (2019, 0.0, 3358.2001953125, -3358.2001953125), (2020, 223.8000030517578, 0.0, 223.8000030517578), (2021, 258416.9981880188, 223.8000030517578, 258193.19818496704), (2023, 158826.402633667, 258416.9981880188, -99590.5955543518)]\n"
          ]
        },
        {
          "name": "stderr",
          "output_type": "stream",
          "text": [
            "\r  2%|▏         | 2/101 [00:03<03:13,  1.96s/it]"
          ]
        },
        {
          "name": "stdout",
          "output_type": "stream",
          "text": [
            "[('COSMETICS', 8014773.791149139), ('HAIR CARE', 18117.199531555176), ('HAIR COLOR', 6169402.42906189), ('SKIN CARE', 9495384.601074219)]\n",
            "[('COSMETICS', 5618393.595703125), ('HAIR COLOR', 158826.402633667), ('SKIN CARE', 806436.4091796875)]\n"
          ]
        },
        {
          "name": "stderr",
          "output_type": "stream",
          "text": [
            "\r  3%|▎         | 3/101 [00:06<03:59,  2.44s/it]"
          ]
        },
        {
          "name": "stdout",
          "output_type": "stream",
          "text": [
            "[(None,)]\n",
            "[(None,)]\n"
          ]
        },
        {
          "name": "stderr",
          "output_type": "stream",
          "text": [
            "\r  4%|▍         | 4/101 [00:09<04:10,  2.58s/it]"
          ]
        },
        {
          "name": "stdout",
          "output_type": "stream",
          "text": [
            "[]\n",
            "[]\n"
          ]
        },
        {
          "name": "stderr",
          "output_type": "stream",
          "text": [
            "\r  5%|▍         | 5/101 [00:11<03:46,  2.36s/it]"
          ]
        },
        {
          "name": "stdout",
          "output_type": "stream",
          "text": [
            "[]\n",
            "[('SOFTSHEEN-CARSON', 5748.66670328776)]\n"
          ]
        },
        {
          "name": "stderr",
          "output_type": "stream",
          "text": [
            "\r  6%|▌         | 6/101 [00:13<03:26,  2.18s/it]"
          ]
        },
        {
          "name": "stdout",
          "output_type": "stream",
          "text": [
            "[]\n",
            "[('SOFTSHEEN-CARSON', -1209.5999755859375)]\n"
          ]
        },
        {
          "name": "stderr",
          "output_type": "stream",
          "text": [
            "\r  7%|▋         | 7/101 [00:16<03:45,  2.40s/it]"
          ]
        },
        {
          "name": "stdout",
          "output_type": "stream",
          "text": [
            "[('NYX PROFESSIONAL MAKEUP', 1639962.0, 11), ('GARNIER', 1354793.0, 4), ('SOFTSHEEN-CARSON', 330522.0, 2), ('LA ROCHE-POSAY', 313007.0, 1), (\"L'OREAL PARIS\", 101432.0, 7)]\n",
            "[]\n"
          ]
        },
        {
          "name": "stderr",
          "output_type": "stream",
          "text": [
            "\r  8%|▊         | 8/101 [00:18<03:32,  2.28s/it]"
          ]
        },
        {
          "name": "stdout",
          "output_type": "stream",
          "text": [
            "[('B004FE0MGE', \"L'Oreal Paris Feria Multi-Faceted Shimmering Color, 40 Espresso\", 21.237499237060547), ('B000142RBU', 'Care Free Curl Instant Moisturizer With Glycerine & Protein, 8 Ounce Bottles', 17.434999465942383), ('B000142RBU', 'Care Free Curl Instant Moisturizer With Glycerine & Protein, 8 Ounce Bottles', 17.399999618530273)]\n",
            "[(\"L'Oreal Paris Feria Multi-Faceted Shimmering Color, 40 Espresso\", 21.237499237060547), ('SoftSheen-Carson Magic Razorless Shaving for Men, Regular Strength Shaving Powder, for Normal Beards, formulated for Black Men, Depilatory, Helps Stop Razor Bumps, 5 oz', 13.595000267028809), ('SoftSheen-Carson Magic Razorless Shaving for Men, Regular Strength Shaving Powder, for Normal Beards, formulated for Black Men, Depilatory, Helps Stop Razor Bumps, 5 oz', 13.417500495910645)]\n"
          ]
        },
        {
          "name": "stderr",
          "output_type": "stream",
          "text": [
            "\r  9%|▉         | 9/101 [00:20<03:20,  2.18s/it]"
          ]
        },
        {
          "name": "stdout",
          "output_type": "stream",
          "text": [
            "[(None,)]\n",
            "[(None,)]\n"
          ]
        },
        {
          "name": "stderr",
          "output_type": "stream",
          "text": [
            "\r 10%|▉         | 10/101 [00:22<03:09,  2.09s/it]"
          ]
        },
        {
          "name": "stdout",
          "output_type": "stream",
          "text": [
            "[(None,)]\n",
            "[]\n"
          ]
        },
        {
          "name": "stderr",
          "output_type": "stream",
          "text": [
            "\r 11%|█         | 11/101 [00:24<03:09,  2.11s/it]"
          ]
        },
        {
          "name": "stdout",
          "output_type": "stream",
          "text": [
            "no such column: ACD\n",
            "[(None,)]\n"
          ]
        },
        {
          "name": "stderr",
          "output_type": "stream",
          "text": [
            "\r 12%|█▏        | 12/101 [00:26<03:01,  2.03s/it]"
          ]
        },
        {
          "name": "stdout",
          "output_type": "stream",
          "text": [
            "[('NYX PROFESSIONAL MAKEUP', 273), ('MAYBELLINE', 200), (\"L'OREAL PARIS\", 161)]\n",
            "[('NYX PROFESSIONAL MAKEUP', 3460376.189453125), ('DERMABLEND', 1257027.40625), ('LANCOME', 900990.0)]\n"
          ]
        },
        {
          "name": "stderr",
          "output_type": "stream",
          "text": [
            "\r 13%|█▎        | 13/101 [00:27<02:45,  1.88s/it]"
          ]
        },
        {
          "name": "stdout",
          "output_type": "stream",
          "text": [
            "[]\n",
            "[]\n"
          ]
        },
        {
          "name": "stderr",
          "output_type": "stream",
          "text": [
            "\r 14%|█▍        | 14/101 [00:30<03:03,  2.11s/it]"
          ]
        },
        {
          "name": "stdout",
          "output_type": "stream",
          "text": [
            "[('LA ROCHE-POSAY', 8688948.191894531), ('GARNIER', 6010576.026428223), ('NYX PROFESSIONAL MAKEUP', 5429403.387145996), ('DERMABLEND', 1257027.40625), ('LANCOME', 900990.0), ('SOFTSHEEN-CARSON', 824489.8087081909), (\"L'OREAL PARIS\", 420825.40102005005), ('MAYBELLINE', 165417.799369812), ('VICHY', 0.0)]\n",
            "[('NYX PROFESSIONAL MAKEUP', 3460376.189453125), ('DERMABLEND', 1257027.40625), ('LANCOME', 900990.0), ('SOFTSHEEN-CARSON', 806436.4091796875), (\"L'OREAL PARIS\", 158826.402633667)]\n"
          ]
        },
        {
          "name": "stderr",
          "output_type": "stream",
          "text": [
            "\r 15%|█▍        | 15/101 [00:32<02:49,  1.97s/it]"
          ]
        },
        {
          "name": "stdout",
          "output_type": "stream",
          "text": [
            "[(None,)]\n",
            "[]\n"
          ]
        },
        {
          "name": "stderr",
          "output_type": "stream",
          "text": [
            "\r 16%|█▌        | 16/101 [00:34<02:53,  2.04s/it]"
          ]
        },
        {
          "name": "stdout",
          "output_type": "stream",
          "text": [
            "[]\n",
            "[]\n"
          ]
        },
        {
          "name": "stderr",
          "output_type": "stream",
          "text": [
            "\r 17%|█▋        | 17/101 [00:37<03:09,  2.25s/it]"
          ]
        },
        {
          "name": "stdout",
          "output_type": "stream",
          "text": [
            "[(None,)]\n",
            "[(107229.0,)]\n"
          ]
        },
        {
          "name": "stderr",
          "output_type": "stream",
          "text": [
            "\r 18%|█▊        | 18/101 [00:39<03:22,  2.43s/it]"
          ]
        },
        {
          "name": "stdout",
          "output_type": "stream",
          "text": [
            "[]\n",
            "[('SoftSheen-Carson Magic Razorless Shaving for Men, Regular Strength Shaving Powder, for Normal Beards, formulated for Black Men, Depilatory, Helps Stop Razor Bumps, 5 oz', 806436.4091796875), ('Vichy Aqualia Thermal Soothing Repairing Lip Balm, 0.15 Fl Oz', 0.0), ('La Roche-Posay Effaclar Pore-Refining Serum with Glycolic Acid, 1 Fl. oz.', -8688948.191894531)]\n"
          ]
        },
        {
          "name": "stderr",
          "output_type": "stream",
          "text": [
            "\r 19%|█▉        | 19/101 [00:42<03:17,  2.41s/it]"
          ]
        },
        {
          "name": "stdout",
          "output_type": "stream",
          "text": [
            "[]\n",
            "[]\n"
          ]
        },
        {
          "name": "stderr",
          "output_type": "stream",
          "text": [
            "\r 20%|█▉        | 20/101 [00:45<03:38,  2.70s/it]"
          ]
        },
        {
          "name": "stdout",
          "output_type": "stream",
          "text": [
            "[]\n",
            "[('LANCOME', 900990.0)]\n"
          ]
        },
        {
          "name": "stderr",
          "output_type": "stream",
          "text": [
            "\r 21%|██        | 21/101 [00:47<03:21,  2.52s/it]"
          ]
        },
        {
          "name": "stdout",
          "output_type": "stream",
          "text": [
            "[(23697678.020816803,)]\n",
            "[(158826.402633667,)]\n"
          ]
        },
        {
          "name": "stderr",
          "output_type": "stream",
          "text": [
            "\r 22%|██▏       | 22/101 [00:49<02:54,  2.21s/it]"
          ]
        },
        {
          "name": "stdout",
          "output_type": "stream",
          "text": [
            "[(5,)]\n",
            "[('GARNIER', 5)]\n"
          ]
        },
        {
          "name": "stderr",
          "output_type": "stream",
          "text": [
            "\r 23%|██▎       | 23/101 [00:50<02:33,  1.96s/it]"
          ]
        },
        {
          "name": "stdout",
          "output_type": "stream",
          "text": [
            "[(None,)]\n",
            "[(None,)]\n"
          ]
        },
        {
          "name": "stderr",
          "output_type": "stream",
          "text": [
            "\r 24%|██▍       | 24/101 [00:52<02:17,  1.79s/it]"
          ]
        },
        {
          "name": "stdout",
          "output_type": "stream",
          "text": [
            "[(None,)]\n",
            "[(\"DF PORCELAINE D'IVOIRE I 130 N\", 29481.0)]\n"
          ]
        },
        {
          "name": "stderr",
          "output_type": "stream",
          "text": [
            "\r 25%|██▍       | 25/101 [00:53<02:12,  1.74s/it]"
          ]
        },
        {
          "name": "stdout",
          "output_type": "stream",
          "text": [
            "[(None,)]\n",
            "[]\n"
          ]
        },
        {
          "name": "stderr",
          "output_type": "stream",
          "text": [
            "\r 26%|██▌       | 26/101 [00:56<02:42,  2.17s/it]"
          ]
        },
        {
          "name": "stdout",
          "output_type": "stream",
          "text": [
            "[]\n",
            "[]\n"
          ]
        },
        {
          "name": "stderr",
          "output_type": "stream",
          "text": [
            "\r 27%|██▋       | 27/101 [00:59<03:00,  2.44s/it]"
          ]
        },
        {
          "name": "stdout",
          "output_type": "stream",
          "text": [
            "incomplete input\n",
            "[]\n"
          ]
        },
        {
          "name": "stderr",
          "output_type": "stream",
          "text": [
            "\r 28%|██▊       | 28/101 [01:01<02:34,  2.11s/it]"
          ]
        },
        {
          "name": "stdout",
          "output_type": "stream",
          "text": [
            "no such column: total_column_name\n",
            "[]\n"
          ]
        },
        {
          "name": "stderr",
          "output_type": "stream",
          "text": [
            "\r 29%|██▊       | 29/101 [01:05<03:15,  2.72s/it]"
          ]
        },
        {
          "name": "stdout",
          "output_type": "stream",
          "text": [
            "incomplete input\n",
            "[]\n"
          ]
        },
        {
          "name": "stderr",
          "output_type": "stream",
          "text": [
            "\r 30%|██▉       | 30/101 [01:07<03:02,  2.57s/it]"
          ]
        },
        {
          "name": "stdout",
          "output_type": "stream",
          "text": [
            "[(None,)]\n",
            "[(5300.0,)]\n"
          ]
        },
        {
          "name": "stderr",
          "output_type": "stream",
          "text": [
            "\r 31%|███       | 31/101 [01:09<02:42,  2.32s/it]"
          ]
        },
        {
          "name": "stdout",
          "output_type": "stream",
          "text": [
            "[(23697678.020816803, 18340.668233513832)]\n",
            "[(4425639.0012664795,)]\n"
          ]
        },
        {
          "name": "stderr",
          "output_type": "stream",
          "text": [
            "\r 32%|███▏      | 32/101 [01:10<02:17,  2.00s/it]"
          ]
        },
        {
          "name": "stdout",
          "output_type": "stream",
          "text": [
            "[(None,)]\n",
            "[(\"L'Oreal Paris Feria Multi-Faceted Shimmering Color, 40 Espresso\", None)]\n"
          ]
        },
        {
          "name": "stderr",
          "output_type": "stream",
          "text": [
            "\r 33%|███▎      | 33/101 [01:11<02:00,  1.77s/it]"
          ]
        },
        {
          "name": "stdout",
          "output_type": "stream",
          "text": [
            "no such column: condition to identify the specific product\n",
            "[]\n"
          ]
        },
        {
          "name": "stderr",
          "output_type": "stream",
          "text": [
            "\r 34%|███▎      | 34/101 [01:13<02:02,  1.83s/it]"
          ]
        },
        {
          "name": "stdout",
          "output_type": "stream",
          "text": [
            "[]\n",
            "[('NYX PROFESSIONAL MAKEUP', 3460376.189453125)]\n"
          ]
        },
        {
          "name": "stderr",
          "output_type": "stream",
          "text": [
            "\r 35%|███▍      | 35/101 [01:17<02:35,  2.35s/it]"
          ]
        },
        {
          "name": "stdout",
          "output_type": "stream",
          "text": [
            "no such column: AVERAGE_ORDERED_REVENUE_PRICE\n",
            "[]\n"
          ]
        },
        {
          "name": "stderr",
          "output_type": "stream",
          "text": [
            "\r 36%|███▌      | 36/101 [01:19<02:36,  2.41s/it]"
          ]
        },
        {
          "name": "stdout",
          "output_type": "stream",
          "text": [
            "near \"5\": syntax error\n",
            "no such column: AVERAGE_ORDERED_REVENUE_PRICE\n"
          ]
        },
        {
          "name": "stderr",
          "output_type": "stream",
          "text": [
            "\r 37%|███▋      | 37/101 [01:21<02:22,  2.23s/it]"
          ]
        },
        {
          "name": "stdout",
          "output_type": "stream",
          "text": [
            "near \"5\": syntax error\n",
            "[]\n"
          ]
        },
        {
          "name": "stderr",
          "output_type": "stream",
          "text": [
            "\r 38%|███▊      | 38/101 [01:23<02:07,  2.02s/it]"
          ]
        },
        {
          "name": "stdout",
          "output_type": "stream",
          "text": [
            "near \"1\": syntax error\n",
            "[]\n"
          ]
        },
        {
          "name": "stderr",
          "output_type": "stream",
          "text": [
            "\r 39%|███▊      | 39/101 [01:25<02:04,  2.00s/it]"
          ]
        },
        {
          "name": "stdout",
          "output_type": "stream",
          "text": [
            "near \"3\": syntax error\n",
            "[('NYX PROFESSIONAL MAKEUP Mechanical Eyeliner Pencil, Golden Olive', 2410484.99609375), ('NYX Professional Makeup Concealer Wand, Light, 0.11-Ounce', 1793406.7939453125), ('Dermablend Quick-Fix Full Coverage Concealer, 30C Light, 0.16 Oz', 1257027.40625)]\n"
          ]
        },
        {
          "name": "stderr",
          "output_type": "stream",
          "text": [
            "\r 40%|███▉      | 40/101 [01:27<02:12,  2.17s/it]"
          ]
        },
        {
          "name": "stdout",
          "output_type": "stream",
          "text": [
            "[]\n",
            "[]\n"
          ]
        },
        {
          "name": "stderr",
          "output_type": "stream",
          "text": [
            "\r 41%|████      | 41/101 [01:29<01:57,  1.95s/it]"
          ]
        },
        {
          "name": "stdout",
          "output_type": "stream",
          "text": [
            "[]\n",
            "[('SoftSheen-Carson Magic Razorless Shaving for Men, Regular Strength Shaving Powder, for Normal Beards, formulated for Black Men, Depilatory, Helps Stop Razor Bumps, 5 oz', 9.658502419789633)]\n"
          ]
        },
        {
          "name": "stderr",
          "output_type": "stream",
          "text": [
            "\r 42%|████▏     | 42/101 [01:32<02:16,  2.31s/it]"
          ]
        },
        {
          "name": "stdout",
          "output_type": "stream",
          "text": [
            "[(None, None, None)]\n",
            "[]\n"
          ]
        },
        {
          "name": "stderr",
          "output_type": "stream",
          "text": [
            "\r 43%|████▎     | 43/101 [01:35<02:27,  2.54s/it]"
          ]
        },
        {
          "name": "stdout",
          "output_type": "stream",
          "text": [
            "[(None,)]\n",
            "[(0.0,)]\n"
          ]
        },
        {
          "name": "stderr",
          "output_type": "stream",
          "text": [
            "\r 44%|████▎     | 44/101 [01:37<02:23,  2.51s/it]"
          ]
        },
        {
          "name": "stdout",
          "output_type": "stream",
          "text": [
            "[('LA ROCHE-POSAY', 268196.06129807694)]\n",
            "[('LANCOME', 30276.774193548386)]\n"
          ]
        },
        {
          "name": "stderr",
          "output_type": "stream",
          "text": [
            "\r 45%|████▍     | 45/101 [01:41<02:32,  2.72s/it]"
          ]
        },
        {
          "name": "stdout",
          "output_type": "stream",
          "text": [
            "near \"3\": syntax error\n",
            "no such column: AVERAGE_ORDERED_REVENUE_PRICE\n"
          ]
        },
        {
          "name": "stderr",
          "output_type": "stream",
          "text": [
            "\r 46%|████▌     | 46/101 [01:43<02:22,  2.58s/it]"
          ]
        },
        {
          "name": "stdout",
          "output_type": "stream",
          "text": [
            "near \"5\": syntax error\n",
            "[('Dermablend Quick-Fix Full Coverage Concealer, 30C Light, 0.16 Oz', 12662.88005065918)]\n"
          ]
        },
        {
          "name": "stderr",
          "output_type": "stream",
          "text": [
            "\r 47%|████▋     | 47/101 [01:45<02:12,  2.45s/it]"
          ]
        },
        {
          "name": "stdout",
          "output_type": "stream",
          "text": [
            "[('DERMABLEND', 0.0), ('GARNIER', 53383858.526535034), (\"L'OREAL PARIS\", 1979858.0093650818), ('LA ROCHE-POSAY', 38994047.015625), ('LANCOME', None), ('MAYBELLINE', 1743402.4805297852), ('NYX PROFESSIONAL MAKEUP', 10060592.92163086), ('SOFTSHEEN-CARSON', 38068.64015197754), ('VICHY', 0.0)]\n",
            "[(1257027.40625, 'DERMABLEND'), (158826.402633667, \"L'OREAL PARIS\"), (900990.0, 'LANCOME'), (3460376.189453125, 'NYX PROFESSIONAL MAKEUP'), (806436.4091796875, 'SOFTSHEEN-CARSON')]\n"
          ]
        },
        {
          "name": "stderr",
          "output_type": "stream",
          "text": [
            "\r 48%|████▊     | 48/101 [01:48<02:25,  2.74s/it]"
          ]
        },
        {
          "name": "stdout",
          "output_type": "stream",
          "text": [
            "[]\n",
            "[]\n"
          ]
        },
        {
          "name": "stderr",
          "output_type": "stream",
          "text": [
            "\r 49%|████▊     | 49/101 [01:50<01:58,  2.29s/it]"
          ]
        },
        {
          "name": "stdout",
          "output_type": "stream",
          "text": [
            "[]\n",
            "[]\n"
          ]
        },
        {
          "name": "stderr",
          "output_type": "stream",
          "text": [
            "\r 50%|████▉     | 50/101 [01:53<02:16,  2.67s/it]"
          ]
        },
        {
          "name": "stdout",
          "output_type": "stream",
          "text": [
            "incomplete input\n",
            "no such column: AVERAGE_ORDERED_REVENUE_PRICE\n"
          ]
        },
        {
          "name": "stderr",
          "output_type": "stream",
          "text": [
            "\r 50%|█████     | 51/101 [01:56<02:20,  2.80s/it]"
          ]
        },
        {
          "name": "stdout",
          "output_type": "stream",
          "text": [
            "[]\n",
            "[]\n"
          ]
        },
        {
          "name": "stderr",
          "output_type": "stream",
          "text": [
            "\r 51%|█████▏    | 52/101 [02:00<02:24,  2.94s/it]"
          ]
        },
        {
          "name": "stdout",
          "output_type": "stream",
          "text": [
            "[]\n",
            "[]\n"
          ]
        },
        {
          "name": "stderr",
          "output_type": "stream",
          "text": [
            "\r 52%|█████▏    | 53/101 [02:01<02:06,  2.63s/it]"
          ]
        },
        {
          "name": "stdout",
          "output_type": "stream",
          "text": [
            "[(None,)]\n",
            "[(None,)]\n"
          ]
        },
        {
          "name": "stderr",
          "output_type": "stream",
          "text": [
            "\r 53%|█████▎    | 54/101 [02:03<01:43,  2.20s/it]"
          ]
        },
        {
          "name": "stdout",
          "output_type": "stream",
          "text": [
            "[(1285370.5,)]\n",
            "[]\n"
          ]
        },
        {
          "name": "stderr",
          "output_type": "stream",
          "text": [
            "\r 54%|█████▍    | 55/101 [02:06<01:52,  2.44s/it]"
          ]
        },
        {
          "name": "stdout",
          "output_type": "stream",
          "text": [
            "near \"5\": syntax error\n",
            "[]\n"
          ]
        },
        {
          "name": "stderr",
          "output_type": "stream",
          "text": [
            "\r 55%|█████▌    | 56/101 [02:07<01:28,  1.96s/it]"
          ]
        },
        {
          "name": "stdout",
          "output_type": "stream",
          "text": [
            "[('MAYBELLINE',), ('SOFTSHEEN-CARSON',), ('GARNIER',), (\"L'OREAL PARIS\",), ('NYX PROFESSIONAL MAKEUP',), ('DERMABLEND',), ('LANCOME',), ('VICHY',), ('LA ROCHE-POSAY',)]\n",
            "[]\n"
          ]
        },
        {
          "name": "stderr",
          "output_type": "stream",
          "text": [
            "\r 56%|█████▋    | 57/101 [02:09<01:38,  2.24s/it]"
          ]
        },
        {
          "name": "stdout",
          "output_type": "stream",
          "text": [
            "[]\n",
            "[]\n"
          ]
        },
        {
          "name": "stderr",
          "output_type": "stream",
          "text": [
            "\r 57%|█████▋    | 58/101 [02:11<01:22,  1.91s/it]"
          ]
        },
        {
          "name": "stdout",
          "output_type": "stream",
          "text": [
            "[(23697678.020816803,)]\n",
            "[(1257027.40625,)]\n"
          ]
        },
        {
          "name": "stderr",
          "output_type": "stream",
          "text": [
            "\r 58%|█████▊    | 59/101 [02:12<01:10,  1.68s/it]"
          ]
        },
        {
          "name": "stdout",
          "output_type": "stream",
          "text": [
            "no such column: ACD\n",
            "[(4,)]\n"
          ]
        },
        {
          "name": "stderr",
          "output_type": "stream",
          "text": [
            "\r 59%|█████▉    | 60/101 [02:13<01:06,  1.62s/it]"
          ]
        },
        {
          "name": "stdout",
          "output_type": "stream",
          "text": [
            "[]\n",
            "no such column: AVERAGE_ORDERED_REVENUE_PRICE\n"
          ]
        },
        {
          "name": "stderr",
          "output_type": "stream",
          "text": [
            "\r 60%|██████    | 61/101 [02:15<01:04,  1.62s/it]"
          ]
        },
        {
          "name": "stdout",
          "output_type": "stream",
          "text": [
            "[(None,)]\n",
            "[]\n"
          ]
        },
        {
          "name": "stderr",
          "output_type": "stream",
          "text": [
            "\r 61%|██████▏   | 62/101 [02:16<00:59,  1.53s/it]"
          ]
        },
        {
          "name": "stdout",
          "output_type": "stream",
          "text": [
            "[(None,)]\n",
            "[('SoftSheen-Carson Magic Razorless Shaving for Men, Regular Strength Shaving Powder, for Normal Beards, formulated for Black Men, Depilatory, Helps Stop Razor Bumps, 5 oz', 1211744.0)]\n"
          ]
        },
        {
          "name": "stderr",
          "output_type": "stream",
          "text": [
            "\r 62%|██████▏   | 63/101 [02:19<01:09,  1.82s/it]"
          ]
        },
        {
          "name": "stdout",
          "output_type": "stream",
          "text": [
            "[]\n",
            "[('LANCOME', 2.0724637585301555)]\n"
          ]
        },
        {
          "name": "stderr",
          "output_type": "stream",
          "text": [
            "\r 63%|██████▎   | 64/101 [02:21<01:12,  1.96s/it]"
          ]
        },
        {
          "name": "stdout",
          "output_type": "stream",
          "text": [
            "no such column: AVERAGE_ORDERED_REVENUE_PRICE\n",
            "no such column: AVERAGE_ORDERED_REVENUE_PRICE\n"
          ]
        },
        {
          "name": "stderr",
          "output_type": "stream",
          "text": [
            "\r 64%|██████▍   | 65/101 [02:24<01:21,  2.25s/it]"
          ]
        },
        {
          "name": "stdout",
          "output_type": "stream",
          "text": [
            "incomplete input\n",
            "no such column: AVERAGE_ORDERED_REVENUE_PRICE\n"
          ]
        },
        {
          "name": "stderr",
          "output_type": "stream",
          "text": [
            "\r 65%|██████▌   | 66/101 [02:26<01:15,  2.16s/it]"
          ]
        },
        {
          "name": "stdout",
          "output_type": "stream",
          "text": [
            "[(None,)]\n",
            "no such column: AVERAGE_ORDERED_REVENUE_PRICE\n"
          ]
        },
        {
          "name": "stderr",
          "output_type": "stream",
          "text": [
            "\r 66%|██████▋   | 67/101 [02:28<01:13,  2.17s/it]"
          ]
        },
        {
          "name": "stdout",
          "output_type": "stream",
          "text": [
            "[]\n",
            "[('NYX PROFESSIONAL MAKEUP Mechanical Eyeliner Pencil, Golden Olive', 4730144.0), ('NYX PROFESSIONAL MAKEUP Mechanical Eyeliner Pencil, Gold', 2492325.0), (\"DF PORCELAINE D'IVOIRE I 130 N\", 812437.0), ('Dermablend Quick-Fix Full Coverage Concealer, 30C Light, 0.16 Oz', 519877.0), ('NYX Slim Lip Pencil, Beige, 0.04 ounces (Pack of 3)', None)]\n"
          ]
        },
        {
          "name": "stderr",
          "output_type": "stream",
          "text": [
            "\r 67%|██████▋   | 68/101 [02:30<01:11,  2.18s/it]"
          ]
        },
        {
          "name": "stdout",
          "output_type": "stream",
          "text": [
            "no such column: CURRENT_YEAR\n",
            "[(None,)]\n"
          ]
        },
        {
          "name": "stderr",
          "output_type": "stream",
          "text": [
            "\r 68%|██████▊   | 69/101 [02:33<01:15,  2.36s/it]"
          ]
        },
        {
          "name": "stdout",
          "output_type": "stream",
          "text": [
            "[('MAYBELLINE', 128.0)]\n",
            "[('SOFTSHEEN-CARSON', 9.658502419789633)]\n"
          ]
        },
        {
          "name": "stderr",
          "output_type": "stream",
          "text": [
            "\r 69%|██████▉   | 70/101 [02:36<01:18,  2.55s/it]"
          ]
        },
        {
          "name": "stdout",
          "output_type": "stream",
          "text": [
            "unrecognized token: \"'br\"\n",
            "[(None,)]\n"
          ]
        },
        {
          "name": "stderr",
          "output_type": "stream",
          "text": [
            "\r 70%|███████   | 71/101 [02:39<01:17,  2.58s/it]"
          ]
        },
        {
          "name": "stdout",
          "output_type": "stream",
          "text": [
            "incomplete input\n",
            "[(None,)]\n"
          ]
        },
        {
          "name": "stderr",
          "output_type": "stream",
          "text": [
            "\r 71%|███████▏  | 72/101 [02:40<01:03,  2.20s/it]"
          ]
        },
        {
          "name": "stdout",
          "output_type": "stream",
          "text": [
            "[(None,)]\n",
            "[(None,)]\n"
          ]
        },
        {
          "name": "stderr",
          "output_type": "stream",
          "text": [
            "\r 72%|███████▏  | 73/101 [02:41<00:55,  1.99s/it]"
          ]
        },
        {
          "name": "stdout",
          "output_type": "stream",
          "text": [
            "[('ACD', 318396.0), ('CPD', 2894060.0), ('LPD', 25714.0)]\n",
            "[('ACD', 69595.0), ('CPD', 1368495.0), ('LPD', 29481.0)]\n"
          ]
        },
        {
          "name": "stderr",
          "output_type": "stream",
          "text": [
            "\r 73%|███████▎  | 74/101 [02:43<00:48,  1.81s/it]"
          ]
        },
        {
          "name": "stdout",
          "output_type": "stream",
          "text": [
            "[(None,)]\n",
            "[(\"DF PORCELAINE D'IVOIRE I 130 N\", 77800.0)]\n"
          ]
        },
        {
          "name": "stderr",
          "output_type": "stream",
          "text": [
            "\r 74%|███████▍  | 75/101 [02:45<00:51,  1.99s/it]"
          ]
        },
        {
          "name": "stdout",
          "output_type": "stream",
          "text": [
            "[(None,)]\n",
            "[(None,)]\n"
          ]
        },
        {
          "name": "stderr",
          "output_type": "stream",
          "text": [
            "\r 75%|███████▌  | 76/101 [02:48<00:53,  2.13s/it]"
          ]
        },
        {
          "name": "stdout",
          "output_type": "stream",
          "text": [
            "[(None,)]\n",
            "[(None,)]\n"
          ]
        },
        {
          "name": "stderr",
          "output_type": "stream",
          "text": [
            "\r 76%|███████▌  | 77/101 [02:51<00:58,  2.44s/it]"
          ]
        },
        {
          "name": "stdout",
          "output_type": "stream",
          "text": [
            "incomplete input\n",
            "[('NYX PROFESSIONAL MAKEUP', 573407.0), ('MAYBELLINE', -5828.0), (\"L'OREAL PARIS\", -75733.0)]\n"
          ]
        },
        {
          "name": "stderr",
          "output_type": "stream",
          "text": [
            "\r 77%|███████▋  | 78/101 [02:52<00:47,  2.07s/it]"
          ]
        },
        {
          "name": "stdout",
          "output_type": "stream",
          "text": [
            "[(None,)]\n",
            "[(\"L'Oreal Paris Feria Multi-Faceted Shimmering Color, 40 Espresso\", 24738.0)]\n"
          ]
        },
        {
          "name": "stderr",
          "output_type": "stream",
          "text": [
            "\r 78%|███████▊  | 79/101 [02:55<00:49,  2.27s/it]"
          ]
        },
        {
          "name": "stdout",
          "output_type": "stream",
          "text": [
            "[]\n",
            "[(\"L'Oreal Paris Feria Multi-Faceted Shimmering Color, 40 Espresso\", 6455.0400390625)]\n"
          ]
        },
        {
          "name": "stderr",
          "output_type": "stream",
          "text": [
            "\r 79%|███████▉  | 80/101 [02:58<00:54,  2.58s/it]"
          ]
        },
        {
          "name": "stdout",
          "output_type": "stream",
          "text": [
            "[]\n",
            "[('Garnier Nutrisse Nourishing Hair Color Creme, 30 Darkest Brown (Sweet Cola)  (Packaging May Vary)', -9824.419921875)]\n"
          ]
        },
        {
          "name": "stderr",
          "output_type": "stream",
          "text": [
            "\r 80%|████████  | 81/101 [03:00<00:45,  2.26s/it]"
          ]
        },
        {
          "name": "stdout",
          "output_type": "stream",
          "text": [
            "[(0,)]\n",
            "[(1,)]\n"
          ]
        },
        {
          "name": "stderr",
          "output_type": "stream",
          "text": [
            "\r 81%|████████  | 82/101 [03:02<00:44,  2.36s/it]"
          ]
        },
        {
          "name": "stdout",
          "output_type": "stream",
          "text": [
            "[]\n",
            "[('La Roche-Posay Effaclar Pore-Refining Serum with Glycolic Acid, 1 Fl. oz.', 313007.0), ('Vichy Aqualia Thermal Soothing Repairing Lip Balm, 0.15 Fl Oz', 0.0)]\n"
          ]
        },
        {
          "name": "stderr",
          "output_type": "stream",
          "text": [
            "\r 82%|████████▏ | 83/101 [03:04<00:41,  2.33s/it]"
          ]
        },
        {
          "name": "stdout",
          "output_type": "stream",
          "text": [
            "[('B0032JFR0O', 'Dermablend Long Wear Makeup Remover 5 Fl oz'), ('B0032JFR0O', 'Dermablend Long Wear Makeup Remover 5 Fl oz'), ('B0032JFR0O', 'Dermablend Long Wear Makeup Remover 5 Fl oz'), ('B0032JFR0O', 'Dermablend Long Wear Makeup Remover 5 Fl oz'), ('B0032JFR0O', 'Dermablend Long Wear Makeup Remover 5 Fl oz'), ('B0032JFR0O', 'Dermablend Long Wear Makeup Remover 5 Fl oz'), ('B0032JFR0O', 'Dermablend Long Wear Makeup Remover 5 Fl oz'), ('B0032JFR0O', 'Dermablend Long Wear Makeup Remover 5 Fl oz'), ('B0032JFR0O', 'Dermablend Long Wear Makeup Remover 5 Fl oz'), ('B0032JFR0O', 'Dermablend Long Wear Makeup Remover 5 Fl oz')]\n",
            "[(41900.91354166667, 'Dermablend Quick-Fix Full Coverage Concealer, 30C Light, 0.16 Oz'), (184888.25514773105, 'La Roche-Posay Effaclar Pore-Refining Serum with Glycolic Acid, 1 Fl. oz.')]\n"
          ]
        },
        {
          "name": "stderr",
          "output_type": "stream",
          "text": [
            "\r 83%|████████▎ | 84/101 [03:07<00:40,  2.37s/it]"
          ]
        },
        {
          "name": "stdout",
          "output_type": "stream",
          "text": [
            "[]\n",
            "[]\n"
          ]
        },
        {
          "name": "stderr",
          "output_type": "stream",
          "text": [
            "\r 84%|████████▍ | 85/101 [03:09<00:35,  2.25s/it]"
          ]
        },
        {
          "name": "stdout",
          "output_type": "stream",
          "text": [
            "[]\n",
            "[('SoftSheen-Carson Magic Razorless Shaving for Men, Regular Strength Shaving Powder, for Normal Beards, formulated for Black Men, Depilatory, Helps Stop Razor Bumps, 5 oz', 10982.80078125)]\n"
          ]
        },
        {
          "name": "stderr",
          "output_type": "stream",
          "text": [
            "\r 85%|████████▌ | 86/101 [03:11<00:32,  2.16s/it]"
          ]
        },
        {
          "name": "stdout",
          "output_type": "stream",
          "text": [
            "[]\n",
            "[]\n"
          ]
        },
        {
          "name": "stderr",
          "output_type": "stream",
          "text": [
            "\r 86%|████████▌ | 87/101 [03:14<00:32,  2.33s/it]"
          ]
        },
        {
          "name": "stdout",
          "output_type": "stream",
          "text": [
            "[]\n",
            "[]\n"
          ]
        },
        {
          "name": "stderr",
          "output_type": "stream",
          "text": [
            "\r 87%|████████▋ | 88/101 [03:16<00:32,  2.48s/it]"
          ]
        },
        {
          "name": "stdout",
          "output_type": "stream",
          "text": [
            "[(None,)]\n",
            "[(None,)]\n"
          ]
        },
        {
          "name": "stderr",
          "output_type": "stream",
          "text": [
            "\r 88%|████████▊ | 89/101 [03:18<00:26,  2.17s/it]"
          ]
        },
        {
          "name": "stdout",
          "output_type": "stream",
          "text": [
            "no such column: AVERAGE_ORDERED_REVENUE_PRICE\n",
            "no such column: AVERAGE_ORDERED_REVENUE_PRICE\n"
          ]
        },
        {
          "name": "stderr",
          "output_type": "stream",
          "text": [
            "\r 89%|████████▉ | 90/101 [03:20<00:23,  2.15s/it]"
          ]
        },
        {
          "name": "stdout",
          "output_type": "stream",
          "text": [
            "no such column: AVERAGE_ORDERED_REVENUE_PRICE\n",
            "no such column: AVERAGE_ORDERED_REVENUE_PRICE\n"
          ]
        },
        {
          "name": "stderr",
          "output_type": "stream",
          "text": [
            "\r 90%|█████████ | 91/101 [03:22<00:21,  2.17s/it]"
          ]
        },
        {
          "name": "stdout",
          "output_type": "stream",
          "text": [
            "[]\n",
            "[('La Roche-Posay Effaclar Pore-Refining Serum with Glycolic Acid, 1 Fl. oz.', 8688948.191894531), ('SoftSheen-Carson Magic Razorless Shaving for Men, Regular Strength Shaving Powder, for Normal Beards, formulated for Black Men, Depilatory, Helps Stop Razor Bumps, 5 oz', 806436.4091796875), ('Vichy Aqualia Thermal Soothing Repairing Lip Balm, 0.15 Fl Oz', 0.0)]\n"
          ]
        },
        {
          "name": "stderr",
          "output_type": "stream",
          "text": [
            "\r 91%|█████████ | 92/101 [03:24<00:19,  2.21s/it]"
          ]
        },
        {
          "name": "stdout",
          "output_type": "stream",
          "text": [
            "[(None,)]\n",
            "[(None,)]\n"
          ]
        },
        {
          "name": "stderr",
          "output_type": "stream",
          "text": [
            "\r 92%|█████████▏| 93/101 [03:26<00:16,  2.04s/it]"
          ]
        },
        {
          "name": "stdout",
          "output_type": "stream",
          "text": [
            "[(None,)]\n",
            "[(None,)]\n"
          ]
        },
        {
          "name": "stderr",
          "output_type": "stream",
          "text": [
            "\r 93%|█████████▎| 94/101 [03:28<00:13,  1.95s/it]"
          ]
        },
        {
          "name": "stdout",
          "output_type": "stream",
          "text": [
            "no such column: AVERAGE_ORDERED_REVENUE_PRICE\n",
            "unrecognized token: \"' AND SYNDICATED_YEAR_NAME = 2023\"\n"
          ]
        },
        {
          "name": "stderr",
          "output_type": "stream",
          "text": [
            "\r 94%|█████████▍| 95/101 [03:30<00:12,  2.06s/it]"
          ]
        },
        {
          "name": "stdout",
          "output_type": "stream",
          "text": [
            "no such column: AVERAGE_ORDERED_REVENUE_PRICE\n",
            "no such column: AVERAGE_ORDERED_REVENUE_PRICE\n"
          ]
        },
        {
          "name": "stderr",
          "output_type": "stream",
          "text": [
            "\r 95%|█████████▌| 96/101 [03:32<00:09,  1.90s/it]"
          ]
        },
        {
          "name": "stdout",
          "output_type": "stream",
          "text": [
            "[(None,)]\n",
            "[(\"L'Oreal Paris Feria Multi-Faceted Shimmering Color, 40 Espresso\", 26.0)]\n"
          ]
        },
        {
          "name": "stderr",
          "output_type": "stream",
          "text": [
            "\r 96%|█████████▌| 97/101 [03:35<00:09,  2.27s/it]"
          ]
        },
        {
          "name": "stdout",
          "output_type": "stream",
          "text": [
            "[]\n",
            "[]\n"
          ]
        },
        {
          "name": "stderr",
          "output_type": "stream",
          "text": [
            "\r 97%|█████████▋| 98/101 [03:37<00:06,  2.16s/it]"
          ]
        },
        {
          "name": "stdout",
          "output_type": "stream",
          "text": [
            "[(None,)]\n",
            "[(17908.549798965454,)]\n"
          ]
        },
        {
          "name": "stderr",
          "output_type": "stream",
          "text": [
            "\r 98%|█████████▊| 99/101 [03:39<00:04,  2.12s/it]"
          ]
        },
        {
          "name": "stdout",
          "output_type": "stream",
          "text": [
            "[]\n",
            "[]\n"
          ]
        },
        {
          "name": "stderr",
          "output_type": "stream",
          "text": [
            "\r 99%|█████████▉| 100/101 [03:42<00:02,  2.39s/it]"
          ]
        },
        {
          "name": "stdout",
          "output_type": "stream",
          "text": [
            "[('LA ROCHE-POSAY', 3482777.75)]\n",
            "[]\n"
          ]
        },
        {
          "name": "stderr",
          "output_type": "stream",
          "text": [
            "100%|██████████| 101/101 [03:44<00:00,  2.22s/it]"
          ]
        },
        {
          "name": "stdout",
          "output_type": "stream",
          "text": [
            "[]\n",
            "[('Care Free Curl Instant Moisturizer With Glycerine & Protein, 8 Ounce Bottles', 73.27650046348572)]\n",
            "SQL Queries from GPT:\n",
            "Question 1:\n",
            "SELECT (ORDERED_REVENUE - ORDERED_REVENUE_SAME_PERIOD_LY) AS yoy_change_ordered_revenue\n",
            "FROM test_table\n",
            "WHERE DIV_BRAND = 'Azzaro'\n",
            "\n",
            "Question 2:\n",
            "SELECT DIV_MASTER_CATEGORY, SUM(ORDERED_REVENUE) AS Total_Revenue\n",
            "FROM test_table\n",
            "GROUP BY DIV_MASTER_CATEGORY;\n",
            "\n",
            "Question 3:\n",
            "SELECT SUM(YTD_ORDERED_REVENUE) AS Total_YTD_Ordered_Revenue\n",
            "FROM test_table\n",
            "WHERE DIV_BRAND = 'AZZARO' AND SYNDICATED_QUARTER_NAME = 'Q1' AND SYNDICATED_YEAR_NAME = '2019'\n",
            "\n",
            "Question 4:\n",
            "SELECT DIV_PRODUCT_TITLE\n",
            "FROM test_table\n",
            "WHERE DIV_MASTER_CATEGORY = 'Makeup'\n",
            "    AND SYNDICATED_QUARTER_NAME = 'Q2 2022'\n",
            "ORDER BY NET_PPM_AMZR DESC\n",
            "LIMIT 1;\n",
            "\n",
            "Question 5:\n",
            "SELECT DIV_BRAND, AVG(RETAIL_MARGIN) AS avg_retail_margin\n",
            "FROM test_table\n",
            "WHERE DIV_MASTER_CATEGORY = 'SkinC'\n",
            "GROUP BY DIV_BRAND;\n",
            "\n",
            "Question 6:\n",
            "SELECT DIV_BRAND \n",
            "FROM test_table \n",
            "WHERE DIV_MASTER_CATEGORY = 'Skin Care' \n",
            "ORDER BY RETAIL_MARGIN ASC \n",
            "LIMIT 1\n",
            "\n",
            "Question 7:\n",
            "SELECT DIV_BRAND, SUM(ORDERED_UNITS) AS units_sold, COUNT(DISTINCT PROD_KEY) AS FC\n",
            "FROM test_table\n",
            "GROUP BY DIV_BRAND\n",
            "ORDER BY units_sold DESC\n",
            "LIMIT 5;\n",
            "\n",
            "Question 8:\n",
            "SELECT PROD_KEY, DIV_PRODUCT_TITLE, NET_PPM_AMZR \n",
            "FROM test_table \n",
            "ORDER BY NET_PPM_AMZR DESC \n",
            "LIMIT 3;\n",
            "\n",
            "Question 9:\n",
            "SELECT MAX(SPEND_AUTO) FROM test_table WHERE DIV_HERO_PARENT = 'Col Cosm'\n",
            "\n",
            "Question 10:\n",
            "SELECT MAX(REP_OOS) AS Most_OOS_Days FROM test_table WHERE DIV_BRAND = 'fskinc'\n",
            "\n",
            "Question 11:\n",
            "SELECT SUM(ACD) FROM test_table WHERE DIV_SUB_AXE = 'skincare' AND SYNDICATED_YEAR_NAME = 'YTD';\n",
            "\n",
            "Question 12:\n",
            "SELECT DIV_BRAND, COUNT(*) AS brand_count\n",
            "FROM test_table\n",
            "GROUP BY DIV_BRAND\n",
            "ORDER BY brand_count DESC\n",
            "LIMIT 3;\n",
            "\n",
            "Question 13:\n",
            "SELECT * FROM test_table WHERE DIV_MASTER_CATEGORY = 'Facial' ORDER BY CHARGEBACK DESC LIMIT 1\n",
            "\n",
            "Question 14:\n",
            "SELECT DIV_BRAND, SUM(ORDERED_REVENUE) AS TOTAL_REVENUE\n",
            "FROM test_table\n",
            "GROUP BY DIV_BRAND\n",
            "ORDER BY TOTAL_REVENUE DESC\n",
            "LIMIT 10;\n",
            "\n",
            "Question 15:\n",
            "SELECT MIN(RETAIL_MARGIN) \n",
            "FROM test_table \n",
            "WHERE DIV_MASTER_CATEGORY = 'Color Cosmetics'\n",
            "\n",
            "Question 16:\n",
            "SELECT PROD_KEY, DIV_PRODUCT_TITLE, RETAIL_MARGIN \n",
            "FROM test_table \n",
            "WHERE DIV_MASTER_CATEGORY = 'Fragrances' \n",
            "ORDER BY RETAIL_MARGIN DESC \n",
            "LIMIT 1;\n",
            "\n",
            "Question 17:\n",
            "SELECT SUM(ORDERED_UNITS) \n",
            "FROM test_table \n",
            "WHERE DIV_BRAND = 'Kerastase' \n",
            "AND SYNDICATED_QUARTER_NAME = 'Q4 2022'\n",
            "\n",
            "Question 18:\n",
            "SELECT PROD_KEY\n",
            "FROM test_table\n",
            "WHERE DIV_DIVISION = 'SkinC' AND SYNDICATED_YEAR_NAME = '23'\n",
            "ORDER BY ORDERED_REVENUE - ORDERED_REVENUE_PRIOR_PERIOD_ACTUAL_VAL DESC\n",
            "LIMIT 5\n",
            "\n",
            "Question 19:\n",
            "SELECT DIV_BRAND, SUM(FAST_TRACK_GLANCE_VIEW) AS GV\n",
            "FROM test_table\n",
            "WHERE DIV_MASTER_CATEGORY = 'HairC'\n",
            "GROUP BY DIV_BRAND\n",
            "ORDER BY GV DESC\n",
            "LIMIT 3;\n",
            "\n",
            "Question 20:\n",
            "SELECT DIV_BRAND, SUM(YTD_ORDERED_REVENUE) as TOTAL_REVENUE \n",
            "FROM test_table \n",
            "WHERE DIV_MASTER_CATEGORY = 'Makeup' \n",
            "GROUP BY DIV_BRAND \n",
            "ORDER BY TOTAL_REVENUE DESC \n",
            "LIMIT 5;\n",
            "\n",
            "Question 21:\n",
            "SELECT SUM(ORDERED_REVENUE) AS Total_Revenue\n",
            "FROM test_table\n",
            "ORDER BY ORDERED_REVENUE\n",
            "LIMIT 5;\n",
            "\n",
            "Question 22:\n",
            "SELECT MAX(SHIPPING_FEE) AS highest_brand_shipping_fee FROM test_table WHERE DIV_BRAND IS NOT NULL;\n",
            "\n",
            "Question 23:\n",
            "SELECT MIN(BEGIN_DATE) FROM test_table WHERE DIV_PRODUCT_TITLE = 'LRP Thermal Spring Water';\n",
            "\n",
            "Question 24:\n",
            "SELECT MAX(ORDERED_UNITS) FROM test_table WHERE SYNDICATED_YEAR_NAME = 'LPD'\n",
            "\n",
            "Question 25:\n",
            "SELECT MIN(ORDERED_REVENUE) AS Least_Revenue\n",
            "FROM test_table\n",
            "WHERE DIV_SUB_FAMILY = 'Color Cosmetics'\n",
            "\n",
            "Question 26:\n",
            "SELECT DIV_BRAND, MIN(LBB_PRICE) AS Lowest_PPM_Brand_Hair_Care \n",
            "FROM test_table \n",
            "WHERE DIV_MASTER_CATEGORY = 'Hair Care' \n",
            "GROUP BY DIV_BRAND \n",
            "ORDER BY Lowest_PPM_Brand_Hair_Care ASC \n",
            "LIMIT 1;\n",
            "\n",
            "Question 27:\n",
            "SELECT DIV_BRAND, SUM(ORDERED_UNITS) AS Total_Units\n",
            "FROM test_table\n",
            "WHERE SYNDICATED_QUARTER_NAME = 'Q3' AND SYNDICATED_YEAR_NAME = '2019'\n",
            "GROUP BY DIV_BRAND\n",
            "ORDER BY Total_Units DESC\n",
            "LIMIT\n",
            "\n",
            "Question 28:\n",
            "SELECT (SUM(column_name) / SUM(total_column_name)) * 100 AS percentage FROM test_table;\n",
            "\n",
            "Question 29:\n",
            "SELECT PROD_KEY, MAX(CONVERSION_RATE) \n",
            "FROM test_table \n",
            "WHERE DIV_BRAND = 'NYX' AND SYNDICATED_QUARTER_NAME = 'Q1' AND SYNDICATED_YEAR_NAME = '19' \n",
            "GROUP BY PROD_KEY \n",
            "ORDER BY MAX(CON\n",
            "\n",
            "Question 30:\n",
            "SELECT SUM(NUMBER_CLICKS) AS Total_Clicks\n",
            "FROM test_table\n",
            "WHERE DIV_BRAND = 'Mkp' AND FLAG = 'Branded'\n",
            "\n",
            "Question 31:\n",
            "SELECT SUM(ORDERED_REVENUE) AS Total_Revenue, SUM(CP) AS CPD FROM test_table\n",
            "\n",
            "Question 32:\n",
            "SELECT MAX(REP_OOS) FROM test_table WHERE DIV_SUB_FAMILY = 'Hair Color'\n",
            "\n",
            "Question 33:\n",
            "SELECT PROD_KEY FROM test_table WHERE [condition to identify the specific product];\n",
            "\n",
            "Question 34:\n",
            "SELECT DIV_BRAND\n",
            "FROM test_table\n",
            "WHERE DIV_MASTER_CATEGORY = 'Cosmetics'\n",
            "ORDER BY ORDERED_REVENUE DESC\n",
            "LIMIT 1;\n",
            "\n",
            "Question 35:\n",
            "SELECT PROD_KEY, DIV_PRODUCT_TITLE, AVERAGE_ORDERED_REVENUE_PRICE \n",
            "FROM test_table \n",
            "WHERE DIV_MASTER_CATEGORY = 'Hair Care' \n",
            "AND (SYNDICATED_YEAR_NAME = '22' OR SYNDICATED_YEAR_NAME = '23') \n",
            "GROUP BY PROD\n",
            "\n",
            "Question 36:\n",
            "SELECT TOP 5 PROD_KEY, DIV_PRODUCT_TITLE, AVERAGE_ORDERED_REVENUE_PRICE\n",
            "FROM test_table\n",
            "WHERE DIV_MASTER_CATEGORY = 'Hair Care'\n",
            "ORDER BY AVERAGE_ORDERED_REVENUE_PRICE DESC;\n",
            "\n",
            "Question 37:\n",
            "SELECT TOP 5 PROD_KEY, CONVERSION_RATE_CALC, DIV_FRANCHISE\n",
            "FROM test_table\n",
            "ORDER BY CONVERSION_RATE_CALC DESC\n",
            "\n",
            "Question 38:\n",
            "SELECT TOP 1 PROD_KEY, ORDERED_UNITS, DIV_PRODUCT_TITLE\n",
            "FROM test_table\n",
            "ORDER BY ORDERED_UNITS DESC;\n",
            "\n",
            "Question 39:\n",
            "SELECT TOP 3 PROD_KEY, ORDERED_REVENUE\n",
            "FROM test_table\n",
            "WHERE DIV_MASTER_CATEGORY = 'Cosmetics'\n",
            "ORDER BY ORDERED_REVENUE DESC;\n",
            "\n",
            "Question 40:\n",
            "SELECT PROD_KEY, DIV_PRODUCT_TITLE, GLANCE_VIEWS\n",
            "FROM test_table\n",
            "WHERE DIV_SUB_FAMILY = 'Hair Care' AND SYNDICATED_QUARTER_NAME = 'Q1'\n",
            "ORDER BY GLANCE_VIEWS DESC\n",
            "LIMIT 5\n",
            "\n",
            "Question 41:\n",
            "SELECT * FROM test_table WHERE DIV_PRODUCT_TITLE = 'CPD' ORDER BY CONVERSION_RATE DESC LIMIT 1\n",
            "\n",
            "Question 42:\n",
            "SELECT PROD_KEY, DIV_PRODUCT_TITLE, SUM(GLANCE_VIEWS) AS TOTAL_GLANCE_VIEWS\n",
            "FROM test_table\n",
            "WHERE DIV_MASTER_CATEGORY = 'Hair Care' AND SYNDICATED_QUARTER_NAME = 'Q1' AND SYNDICATED_YEAR_NAME = '21'\n",
            "\n",
            "Question 43:\n",
            "SELECT SUM(ORDERED_REVENUE) AS Total_Ordered_Revenue\n",
            "FROM test_table\n",
            "WHERE DIV_BRAND = 'MAYBELLINE'\n",
            "AND SYNDICATED_YEAR_NAME = 'January 19'\n",
            "\n",
            "Question 44:\n",
            "SELECT DIV_BRAND, AVG(RETAIL_MARGIN) AS AVG_RETAIL_MARGIN\n",
            "FROM test_table\n",
            "GROUP BY DIV_BRAND\n",
            "ORDER BY AVG_RETAIL_MARGIN DESC\n",
            "LIMIT 1;\n",
            "\n",
            "Question 45:\n",
            "SELECT TOP 3 PROD_KEY, DIV_PRODUCT_TITLE, AVERAGE_ORDERED_REVENUE_PRICE\n",
            "FROM test_table\n",
            "WHERE DIV_MASTER_CATEGORY = 'Makeup'\n",
            "ORDER BY AVERAGE_ORDERED_REVENUE_PRICE DESC\n",
            "\n",
            "Question 46:\n",
            "SELECT TOP 5 PROD_KEY, CHARGEBACK \n",
            "FROM test_table \n",
            "ORDER BY CHARGEBACK DESC, ACD DESC;\n",
            "\n",
            "Question 47:\n",
            "SELECT DIV_BRAND, SUM(YTD_ORDERED_REVENUE) AS Total_Sales\n",
            "FROM test_table\n",
            "GROUP BY DIV_BRAND;\n",
            "\n",
            "Question 48:\n",
            "SELECT PROD_KEY, DIV_PRODUCT_TITLE, ORDERED_UNITS\n",
            "FROM test_table\n",
            "WHERE DIV_DIVISION = 'ACD' \n",
            "  AND DIV_MASTER_CATEGORY = 'skincare'\n",
            "  AND SYNDICATED_YEAR_NAME = 'ytd'\n",
            "ORDER BY ORDERED_UNITS DESC\n",
            "LIMIT 5\n",
            "\n",
            "Question 49:\n",
            "SELECT * FROM test_table WHERE SYNDICATED_YEAR_NAME = 'nan'\n",
            "\n",
            "Question 50:\n",
            "SELECT AVG(AVERAGE_ORDERED_REVENUE_PRICE) AS Average_Price\n",
            "FROM test_table\n",
            "WHERE DIV_PRODUCT_TITLE IN (\n",
            "    SELECT DIV_PRODUCT_TITLE\n",
            "    FROM test_table\n",
            "    WHERE DIV_PRODUCT_TITLE IS NOT NULL\n",
            "    GROUP BY DIV_PRODUCT_TITLE\n",
            "    ORDER BY AVG(AVERAGE_ORDERED\n",
            "\n",
            "Question 51:\n",
            "SELECT PROD_KEY, MAX(SPEND_COMPETETIVE) AS MAX_YTD_SPEND_COMPETETIVE\n",
            "FROM test_table\n",
            "WHERE DIV_MASTER_CATEGORY = 'Haircare'\n",
            "GROUP BY PROD_KEY\n",
            "ORDER BY MAX_YTD_SPEND_COMPETETIVE DESC\n",
            "LIMIT 1;\n",
            "\n",
            "Question 52:\n",
            "SELECT DIV_BRAND\n",
            "FROM test_table\n",
            "WHERE DIV_MASTER_CATEGORY = 'Hair Care' AND SYNDICATED_MONTH_NAME_ORIGINAL = 'May' AND SYNDICATED_YEAR_NAME = '2022'\n",
            "ORDER BY SELLABLE_OH_INVENTORY DESC\n",
            "LIMIT 1;\n",
            "\n",
            "Question 53:\n",
            "SELECT SUM(ORDERED_UNITS) AS Total_Units_Sold \n",
            "FROM test_table \n",
            "WHERE DIV_MASTER_CATEGORY = 'Facial Skinc'\n",
            "\n",
            "Question 54:\n",
            "SELECT MAX(RETAIL_MARGIN) AS Highest_Retail_Margin_CC FROM test_table\n",
            "\n",
            "Question 55:\n",
            "SELECT TOP 5 PROD_KEY, DIV_PRODUCT_TITLE, YTD_ORDERED_REVENUE\n",
            "FROM test_table\n",
            "WHERE DIV_MASTER_CATEGORY = 'Skin Care' AND DIV_DIVISION = 'ACD'\n",
            "ORDER BY YTD_ORDERED_REVENUE DESC;\n",
            "\n",
            "Question 56:\n",
            "SELECT DISTINCT DIV_BRAND FROM test_table;\n",
            "\n",
            "Question 57:\n",
            "SELECT DIV_PROFITERO_CATEGORY, MAX(CHARGEBACK) AS MAX_CHARGEBACK\n",
            "FROM test_table\n",
            "WHERE DIV_PROFITERO_CATEGORY = 'Makeup'\n",
            "GROUP BY DIV_PROFITERO_CATEGORY\n",
            "ORDER BY MAX_CHARGEBACK DESC\n",
            "LIMIT 1;\n",
            "\n",
            "Question 58:\n",
            "SELECT SUM(ORDERED_REVENUE) AS ACD_total_revenue FROM test_table\n",
            "\n",
            "Question 59:\n",
            "SELECT * FROM test_table WHERE ACD = 'ACD'\n",
            "\n",
            "Question 60:\n",
            "SELECT * FROM test_table WHERE DIV_MASTER_CATEGORY = 'Nail' ORDER BY CP DESC LIMIT 1;\n",
            "\n",
            "Question 61:\n",
            "SELECT MAX(ORDERED_UNITS) FROM test_table WHERE DIV_MASTER_CATEGORY = 'Makeup' AND DIV_SUB_FAMILY = 'ACD'\n",
            "\n",
            "Question 62:\n",
            "SELECT MAX(PO_QTY_REQUESTED) FROM test_table WHERE DIV_SUB_FAMILY = 'Skin C'\n",
            "\n",
            "Question 63:\n",
            "SELECT DIV_BRAND, MAX(CONVERSION_RATE) AS TOP_CONVERSION_RATE\n",
            "FROM test_table\n",
            "WHERE SYNDICATED_YEAR_NAME = 'Mkp'\n",
            "GROUP BY DIV_BRAND\n",
            "ORDER BY TOP_CONVERSION_RATE DESC\n",
            "LIMIT 3;\n",
            "\n",
            "Question 64:\n",
            "SELECT PROD_KEY, DIV_PRODUCT_TITLE, AVERAGE_ORDERED_REVENUE_PRICE\n",
            "FROM test_table\n",
            "WHERE DIV_DIVISION = 'SkinC'\n",
            "ORDER BY AVERAGE_ORDERED_REVENUE_PRICE DESC\n",
            "LIMIT 1;\n",
            "\n",
            "Question 65:\n",
            "SELECT PROD_KEY, DIV_PRODUCT_TITLE\n",
            "FROM test_table\n",
            "WHERE DIV_MASTER_CATEGORY = 'Facial'\n",
            "AND SYNDICATED_QUARTER_NAME = 'Q3'\n",
            "AND SYNDICATED_YEAR_NAME = '21'\n",
            "ORDER BY AVERAGE_ORDERED_REVENUE_PRICE DESC\n",
            "LIMIT\n",
            "\n",
            "Question 66:\n",
            "SELECT MIN(LBB_PRICE) AS Cheapest_Product FROM test_table WHERE DIV_SUB_FAMILY = 'skin'\n",
            "\n",
            "Question 67:\n",
            "SELECT PROD_KEY, DIV_PRODUCT_TITLE\n",
            "FROM test_table\n",
            "WHERE DIV_MASTER_CATEGORY = 'Cosm'\n",
            "ORDER BY WEIGHTED_FAST_TRACK_GLANCE_VIEW_ASIN DESC\n",
            "LIMIT 5\n",
            "\n",
            "Question 68:\n",
            "SELECT NET_PPM_AMZR \n",
            "FROM test_table \n",
            "WHERE DIV_PRODUCT_TITLE = 'LRP Thermal Spring Water' \n",
            "AND SYNDICATED_YEAR_NAME = CURRENT_YEAR;\n",
            "\n",
            "Question 69:\n",
            "SELECT DIV_BRAND, MAX(CONVERSION_RATE) AS HIGHEST_CVR_BRAND\n",
            "FROM test_table\n",
            "GROUP BY DIV_BRAND\n",
            "ORDER BY HIGHEST_CVR_BRAND DESC\n",
            "LIMIT 1;\n",
            "\n",
            "Question 70:\n",
            "SELECT SUM(NUMBER_CLICKS) \n",
            "FROM test_table \n",
            "WHERE DIV_BRAND = 'ralph lauren' \n",
            "AND DIV_DIVISION = 'Fragrance' \n",
            "AND SYNDICATED_QUARTER_NAME = 'Q4 2019' \n",
            "AND PRODUCT_TYPE_SEARCH = 'br\n",
            "\n",
            "Question 71:\n",
            "SELECT SUM(AFFILIATE_CLICKS) + SUM(DISPLAY_CLICKS) AS total_clicks\n",
            "FROM test_table\n",
            "WHERE DIV_BRAND = 'Make'\n",
            "AND SYNDICATED_QUARTER_NAME = 'Q2'\n",
            "AND SYNDICATED_YEAR_NAME = '2019'\n",
            "AND\n",
            "\n",
            "Question 72:\n",
            "SELECT SUM(ORDERED_REVENUE) FROM test_table WHERE DIV_SUB_FAMILY = 'Facial SkinC'\n",
            "\n",
            "Question 73:\n",
            "SELECT DIV_DIVISION, SUM(SHIPPED_UNITS) AS Total_Units_Sold\n",
            "FROM test_table\n",
            "GROUP BY DIV_DIVISION;\n",
            "\n",
            "Question 74:\n",
            "SELECT MAX(RETAIL_MARGIN) \n",
            "FROM test_table \n",
            "WHERE DIV_MASTER_CATEGORY = 'Makeup'\n",
            "\n",
            "Question 75:\n",
            "SELECT SUM(YTD_TOTAL_AD_SPEND) \n",
            "FROM test_table \n",
            "WHERE DIV_MASTER_CATEGORY = 'Skin Care' \n",
            "AND SYNDICATED_QUARTER_NAME = 'Q1' \n",
            "AND DIV_BRAND = 'lancome'\n",
            "\n",
            "Question 76:\n",
            "SELECT SUM(SPEND) AS total_ad_spend\n",
            "FROM test_table\n",
            "WHERE DIV_MASTER_CATEGORY = 'Hair Color'\n",
            "  AND CP = 'CPD'\n",
            "  AND SYNDICATED_YEAR_NAME = '19'\n",
            "\n",
            "Question 77:\n",
            "SELECT DIV_BRAND\n",
            "FROM test_table\n",
            "WHERE DIV_DIVISION = 'Cosmetics' AND SYNDICATED_YEAR_NAME = '22'\n",
            "GROUP BY DIV_BRAND\n",
            "ORDER BY SUM(ORDERED_UNITS) - SUM(ORDERED_UNITS_PRIOR_PERIOD_ACTUAL_VAL) DESC\n",
            "LIMIT\n",
            "\n",
            "Question 78:\n",
            "SELECT MAX(ORDERED_UNITS) FROM test_table WHERE DIV_MASTER_CATEGORY = 'Hair Color'\n",
            "\n",
            "Question 79:\n",
            "SELECT PROD_KEY \n",
            "FROM test_table \n",
            "WHERE DIV_SUB_FAMILY = 'hair color' AND DIV_SUB_AXE = 'CPD' \n",
            "ORDER BY NET_PPM_AMZR DESC \n",
            "LIMIT 1\n",
            "\n",
            "Question 80:\n",
            "SELECT PROD_KEY\n",
            "FROM test_table\n",
            "WHERE SYNDICATED_YEAR_NAME = '2020'\n",
            "  AND SYNDICATED_QUARTER_NAME = 'Q4'\n",
            "ORDER BY NET_PPM_AMZR ASC\n",
            "LIMIT 1;\n",
            "\n",
            "Question 81:\n",
            "SELECT COUNT(DISTINCT PROD_KEY) FROM test_table WHERE DIV_DIVISION = 'LRP'\n",
            "\n",
            "Question 82:\n",
            "SELECT PROD_KEY, SUM(ORDERED_UNITS) AS TotalUnitsSold\n",
            "FROM test_table\n",
            "WHERE DIV_MASTER_CATEGORY = 'SkinC' AND SYNDICATED_YEAR_NAME = '22'\n",
            "GROUP BY PROD_KEY\n",
            "\n",
            "Question 83:\n",
            "SELECT PROD_KEY, DIV_PRODUCT_TITLE\n",
            "FROM test_table\n",
            "WHERE DIV_DIVISION = 'ACD'\n",
            "ORDER BY ORDERED_REVENUE ASC\n",
            "LIMIT 10;\n",
            "\n",
            "Question 84:\n",
            "SELECT PROD_KEY \n",
            "FROM test_table \n",
            "WHERE DIV_MASTER_CATEGORY = 'skinc' \n",
            "ORDER BY YTD_ORDERED_REVENUE DESC \n",
            "LIMIT 1;\n",
            "\n",
            "Question 85:\n",
            "SELECT PROD_KEY\n",
            "FROM test_table\n",
            "WHERE DIV_MASTER_CATEGORY = 'Skin Care'\n",
            "ORDER BY RETAIL_MARGIN DESC\n",
            "LIMIT 1;\n",
            "\n",
            "Question 86:\n",
            "SELECT * FROM test_table WHERE DIV_MASTER_CATEGORY = 'Hair' ORDER BY PERCENTAGE_OF_TOTAL_GVS DESC LIMIT 1;\n",
            "\n",
            "Question 87:\n",
            "SELECT PROD_KEY, MAX(YTD_RETAIL_MARGIN) AS MAX_MARGIN\n",
            "FROM test_table\n",
            "WHERE DIV_BRAND = 'Fac Skinc'\n",
            "GROUP BY PROD_KEY\n",
            "ORDER BY MAX_MARGIN DESC\n",
            "LIMIT 1;\n",
            "\n",
            "Question 88:\n",
            "SELECT SUM(NUMBER_CLICKS) \n",
            "FROM test_table \n",
            "WHERE DIV_MASTER_CATEGORY = 'Hair Care' \n",
            "AND SYNDICATED_MONTH_NAME = 'Feb' \n",
            "AND SYNDICATED_YEAR_NAME = '20' \n",
            "AND FLAG = 'Branded';\n",
            "\n",
            "Question 89:\n",
            "SELECT AVG(AVERAGE_ORDERED_REVENUE_PRICE) FROM test_table WHERE DIV_DIVISION = 'LRP'\n",
            "\n",
            "Question 90:\n",
            "SELECT MAX(AVERAGE_ORDERED_REVENUE_PRICE) as Highest_ASP_FR \n",
            "FROM test_table \n",
            "WHERE DIV_DIVISION = 'FR'\n",
            "\n",
            "Question 91:\n",
            "SELECT PROD_KEY, DIV_PRODUCT_TITLE\n",
            "FROM test_table\n",
            "WHERE DIV_MASTER_CATEGORY = 'Skin Care'\n",
            "ORDER BY ORDERED_REVENUE DESC\n",
            "LIMIT 3\n",
            "\n",
            "Question 92:\n",
            "SELECT SUM(ORDERED_REVENUE) AS Total_Revenue\n",
            "FROM test_table\n",
            "WHERE DIV_MASTER_CATEGORY = 'Hair' AND DIV_HERO = 'LOP';\n",
            "\n",
            "Question 93:\n",
            "SELECT SUM(SPEND) AS Total_Ad_Spend\n",
            "FROM test_table\n",
            "WHERE HERO_CMO_MAPPING = 'color cosm'\n",
            "\n",
            "Question 94:\n",
            "SELECT AVG(AVERAGE_ORDERED_REVENUE_PRICE) AS Average_Price\n",
            "FROM test_table\n",
            "WHERE DIV_MASTER_CATEGORY = 'Skin'\n",
            "\n",
            "Question 95:\n",
            "SELECT DIV_BRAND, AVG(AVERAGE_ORDERED_REVENUE_PRICE) AS ASP\n",
            "FROM test_table\n",
            "WHERE DIV_MASTER_CATEGORY = 'Hair'\n",
            "GROUP BY DIV_BRAND\n",
            "\n",
            "Question 96:\n",
            "SELECT MAX(DIV_MSRP) FROM test_table WHERE DIV_MASTER_CATEGORY = 'Hair Col'\n",
            "\n",
            "Question 97:\n",
            "SELECT PROD_KEY, DIV_PRODUCT_TITLE, MAX(ORDERED_REVENUE) AS MAX_SALES\n",
            "FROM test_table\n",
            "WHERE DIV_MASTER_CATEGORY = 'Skin'\n",
            "GROUP BY PROD_KEY, DIV_PRODUCT_TITLE\n",
            "ORDER BY MAX_SALES DESC\n",
            "LIMIT 1;\n",
            "\n",
            "Question 98:\n",
            "SELECT MAX(SPEND_COMPETETIVE) AS highest_spend_competitive_ads \n",
            "FROM test_table \n",
            "WHERE SYNDICATED_MONTH_NAME = 'LPD'\n",
            "\n",
            "Question 99:\n",
            "SELECT PROD_KEY, DIV_PRODUCT_TITLE, NET_MARGIN\n",
            "FROM test_table\n",
            "WHERE DIV_MASTER_CATEGORY = 'Makeup'\n",
            "ORDER BY NET_MARGIN DESC\n",
            "LIMIT 3\n",
            "\n",
            "Question 100:\n",
            "SELECT DIV_BRAND, MAX(YTD_ORDERED_REVENUE) \n",
            "FROM test_table \n",
            "WHERE DIV_DIVISION = 'ACD' \n",
            "GROUP BY DIV_BRAND \n",
            "ORDER BY MAX(YTD_ORDERED_REVENUE) DESC \n",
            "LIMIT 1;\n",
            "\n",
            "Question 101:\n",
            "SELECT DIV_PRODUCT_TITLE\n",
            "FROM test_table\n",
            "WHERE DIV_MASTER_CATEGORY = 'Hair Care'\n",
            "AND SYNDICATED_YEAR_NAME = '21'\n",
            "ORDER BY REP_OOS DESC\n",
            "LIMIT 1;\n",
            "\n",
            "Ground Truth SQL Queries:\n",
            "Question 1:\n",
            "WITH monthly_metrics AS (SELECT SYNDICATED_YEAR_NAME AS YEAR, SUM(ORDERED_REVENUE) AS REVENUE FROM test_table WHERE DIV_BRAND = \"L'OREAL PARIS\" GROUP BY SYNDICATED_YEAR_NAME) SELECT YEAR, REVENUE, LAG(REVENUE) OVER (ORDER BY YEAR) as REVENUE_PREVIOUS_YEAR, REVENUE - LAG(REVENUE) OVER (ORDER BY YEAR) AS YEAR_DIFF FROM monthly_metrics ORDER BY 1,2\n",
            "\n",
            "Question 2:\n",
            "SELECT DIV_MASTER_CATEGORY, SUM(ORDERED_REVENUE) AS ORDERED_REVENUE FROM test_table WHERE SYNDICATED_YEAR_NAME = 2023 GROUP BY DIV_MASTER_CATEGORY\n",
            "\n",
            "Question 3:\n",
            "SELECT SUM(ORDERED_REVENUE) AS TOTAL_ORDERED_REVENUE FROM test_table WHERE DIV_DIVISION = 'LPD' AND DIV_BRAND = 'AZZARO' AND DIV_MASTER_CATEGORY = 'FRAGRANCE' AND SYNDICATED_YEAR_NAME = 2019 AND SYNDICATED_QUARTER_NAME = 1\n",
            "\n",
            "Question 4:\n",
            "SELECT DIV_PRODUCT_TITLE, MAX(RETAIL_MARGIN) AS HIGHEST_MARGIN FROM test_table WHERE DIV_DIVISION = 'LPD' AND DIV_BRAND = 'IT COSMETICS' AND DIV_AXE = 'MAKEUP' AND SYNDICATED_YEAR_NAME = 2022 AND SYNDICATED_QUARTER_NAME = 2 GROUP BY DIV_PRODUCT_TITLE ORDER BY HIGHEST_MARGIN DESC LIMIT 1\n",
            "\n",
            "Question 5:\n",
            "SELECT DIV_BRAND, AVG(YTD_RETAIL_MARGIN) AS AVG_RETAIL_MARGIN FROM test_table WHERE DIV_MASTER_CATEGORY = 'SKIN CARE' AND SYNDICATED_YEAR_NAME = 2023 GROUP BY DIV_BRAND\n",
            "\n",
            "Question 6:\n",
            "SELECT DIV_BRAND, MIN(YTD_RETAIL_MARGIN) AS MIN_MARGIN FROM test_table WHERE DIV_MASTER_CATEGORY = 'SKIN CARE' AND SYNDICATED_YEAR_NAME = 2023 AND YTD_RETAIL_MARGIN NOT NULL GROUP BY DIV_BRAND ORDER BY MIN_MARGIN ASC LIMIT 1\n",
            "\n",
            "Question 7:\n",
            "SELECT DIV_BRAND, SUM(ORDERED_UNITS) AS ORDERED_UNITS FROM test_table WHERE DIV_MASTER_CATEGORY = 'FACIAL SKINCARE' AND SYNDICATED_YEAR_NAME = 2023 GROUP BY DIV_BRAND ORDER BY ORDERED_UNITS DESC LIMIT 5\n",
            "\n",
            "Question 8:\n",
            "SELECT DIV_PRODUCT_TITLE, NET_PPM_AMZR FROM test_table WHERE SYNDICATED_YEAR_NAME = 2023 GROUP BY DIV_PRODUCT_TITLE, NET_PPM_AMZR ORDER BY NET_PPM_AMZR DESC LIMIT 3\n",
            "\n",
            "Question 9:\n",
            "SELECT SUM(SPEND_AUTO) AS TOTAL_AUTO_SPEND FROM test_table WHERE DIV_MASTER_CATEGORY = 'COLOR COSMETICS' AND SYNDICATED_YEAR_NAME = 2023\n",
            "\n",
            "Question 10:\n",
            "SELECT DIV_PRODUCT_TITLE, SUM(REP_OOS) AS TOTAL_OOS_DAYS FROM test_table WHERE DIV_MASTER_CATEGORY = 'FACIL  SKINCARE' AND SYNDICATED_YEAR_NAME = 2023 AND REP_OOS NOT NULL GROUP BY DIV_PRODUCT_TITLE ORDER BY TOTAL_OOS_DAYS DESC LIMIT 1\n",
            "\n",
            "Question 11:\n",
            "SELECT SUM(SPEND) AS TOTAL_AD_SPEND FROM test_table WHERE DIV_DIVISION = 'ACD' AND DIV_MASTER_CATEGORY = 'SKIN CARE' AND SYNDICATED_YEAR_NAME = 2023 AND SPEND NOT NULL\n",
            "\n",
            "Question 12:\n",
            "SELECT DIV_BRAND, SUM(ORDERED_REVENUE) AS ORDERED_REVENUE FROM test_table WHERE SYNDICATED_YEAR_NAME = 2023 GROUP BY DIV_BRAND ORDER BY ORDERED_REVENUE DESC LIMIT 3\n",
            "\n",
            "Question 13:\n",
            "SELECT DIV_PRODUCT_TITLE, SUM(CHARGEBACK) AS TOTAL_CHARGEBACKS FROM test_table WHERE DIV_MASTER_CATEGORY = 'FACIAL SKINCARE' AND SYNDICATED_YEAR_NAME = 2019 AND CHARGEBACK NOT NULL GROUP BY DIV_PRODUCT_TITLE ORDER BY TOTAL_CHARGEBACKS DESC LIMIT 1\n",
            "\n",
            "Question 14:\n",
            "SELECT DIV_BRAND, SUM(ORDERED_REVENUE) AS ORDERED_REVENUE FROM test_table WHERE SYNDICATED_YEAR_NAME = 2023 GROUP BY DIV_BRAND ORDER BY ORDERED_REVENUE DESC LIMIT 10\n",
            "\n",
            "Question 15:\n",
            "SELECT DIV_PRODUCT_TITLE, MIN(YTD_RETAIL_MARGIN) AS MIN_MARGIN FROM test_table WHERE DIV_MASTER_CATEGORY = 'COLOR COSMETICS' AND SYNDICATED_YEAR_NAME = 2023 GROUP BY DIV_PRODUCT_TITLE ORDER BY MIN_MARGIN ASC LIMIT 1\n",
            "\n",
            "Question 16:\n",
            "SELECT DIV_PRODUCT_TITLE, MAX(YTD_RETAIL_MARGIN) AS MAX_RETAIL_MARGIN FROM test_table WHERE DIV_MASTER_CATEGORY = 'FRAGRANCE' AND SYNDICATED_YEAR_NAME = 2023 GROUP BY DIV_PRODUCT_TITLE ORDER BY MAX_RETAIL_MARGIN DESC LIMIT 1\n",
            "\n",
            "Question 17:\n",
            "SELECT SUM(ORDERED_UNITS) AS TOTAL_ORDERED_UNITS FROM test_table WHERE DIV_MASTER_CATEGORY = 'SKIN CARE' AND SYNDICATED_YEAR_NAME = 2022 AND SYNDICATED_QUARTER_NAME = 4\n",
            "\n",
            "Question 18:\n",
            "SELECT DIV_PRODUCT_TITLE, (SUM(CASE WHEN SYNDICATED_YEAR_NAME = 2023 THEN ORDERED_REVENUE ELSE 0 END) - SUM(CASE WHEN SYNDICATED_YEAR_NAME = 2022 THEN ORDERED_REVENUE ELSE 0 END)) AS REVENUE_GROWTH FROM test_table WHERE DIV_MASTER_CATEGORY = 'SKIN CARE' AND SYNDICATED_YEAR_NAME IN (2022, 2023) GROUP BY DIV_PRODUCT_TITLE ORDER BY REVENUE_GROWTH DESC LIMIT 5\n",
            "\n",
            "Question 19:\n",
            "SELECT DIV_BRAND, SUM(GLANCE_VIEWS) AS TOTAL_GV FROM test_table WHERE DIV_MASTER_CATEGORY = 'HAIR CARE' AND SYNDICATED_YEAR_NAME = 2023 AND GLANCE_VIEWS NOT NULL GROUP BY DIV_BRAND ORDER BY TOTAL_GV DESC LIMIT 3\n",
            "\n",
            "Question 20:\n",
            "SELECT DIV_BRAND, SUM(ORDERED_REVENUE) AS ORDERED_REVENUE FROM test_table WHERE DIV_AXE = 'MAKEUP' AND SYNDICATED_YEAR_NAME = 2023 GROUP BY DIV_BRAND ORDER BY ORDERED_REVENUE DESC LIMIT 5\n",
            "\n",
            "Question 21:\n",
            "WITH BOTTOM_PRODUCTS AS (SELECT DIV_PRODUCT_TITLE, SUM(ORDERED_REVENUE) AS ORDERED_REVENUE FROM test_table WHERE DIV_MASTER_CATEGORY = 'HAIR COLOR' AND SYNDICATED_YEAR_NAME = 2023 AND ORDERED_REVENUE NOT NULL GROUP BY DIV_PRODUCT_TITLE ORDER BY ORDERED_REVENUE ASC LIMIT 5) SELECT SUM(ORDERED_REVENUE) AS TOTAL_REVENUE FROM BOTTOM_PRODUCTS\n",
            "\n",
            "Question 22:\n",
            "SELECT DIV_BRAND, MAX(SHIPPING_FEE) AS MAX_SHIPPING_FEE FROM test_table WHERE SHIPPING_FEE NOT NULL GROUP BY DIV_BRAND ORDER BY MAX_SHIPPING_FEE DESC LIMIT 1\n",
            "\n",
            "Question 23:\n",
            "SELECT MIN(SYNDICATED_MONTH) FROM test_table WHERE DIV_PRODUCT_TITLE = 'La Roche-Posay Thermal Spring Water, 10.1 Fl oz.'\n",
            "\n",
            "Question 24:\n",
            "SELECT DIV_PRODUCT_TITLE, SUM(ORDERED_UNITS) AS ORDERED_UNITS FROM test_table WHERE DIV_DIVISION = 'LPD' AND SYNDICATED_YEAR_NAME = 2023 GROUP BY DIV_PRODUCT_TITLE ORDER BY ORDERED_UNITS DESC LIMIT 1\n",
            "\n",
            "Question 25:\n",
            "SELECT DIV_PRODUCT_TITLE, SUM(ORDERED_REVENUE) AS ORDERED_REVENUE FROM test_table WHERE DIV_MASTER_CATEGORY = 'COLOR COSMETICS' AND SYNDICATED_YEAR_NAME = 2023 AND ORDERED_REVENUE NOT NULL GROUP BY DIV_PRODUCT_TITLE ORDER BY ORDERED_REVENUE ASC LIMIT 1\n",
            "\n",
            "Question 26:\n",
            "SELECT DIV_BRAND, MIN(NET_PPM_AMZR) AS MIN_PPM FROM test_table WHERE DIV_MASTER_CATEGORY = 'HAIR CARE' AND SYNDICATED_YEAR_NAME = 2023 AND NET_PPM_AMZR NOT NULL GROUP BY DIV_BRAND ORDER BY MIN_PPM ASC LIMIT 1\n",
            "\n",
            "Question 27:\n",
            "SELECT DIV_BRAND, MAX(ORDERED_UNITS) AS UNITS FROM test_table WHERE SYNDICATED_YEAR_NAME = 2019 AND SYNDICATED_QUARTER_NAME = 3 AND ORDERED_UNITS NOT NULL GROUP BY DIV_BRAND ORDER BY ORDERED_UNITS DESC LIMIT 5\n",
            "\n",
            "Question 28:\n",
            "WITH monthly_metrics AS (SELECT SYNDICATED_YEAR_NAME AS YEAR, SUM(ORDERED_REVENUE) AS REVENUE FROM test_table WHERE DIV_BRAND = \"AZZARO\" GROUP BY SYNDICATED_YEAR_NAME) SELECT YEAR, REVENUE, LAG(REVENUE) OVER (ORDER BY YEAR) as REVENUE_PREVIOUS_YEAR, REVENUE - LAG(REVENUE) OVER (ORDER BY YEAR) AS YEAR_DIFF, (REVENUE - LAG (REVENUE) OVER (ORDER BY YEAR ASC))/LAG (REVENUE) OVER (ORDER BY YEAR ASC)  AS PERCENT_CHANGE FROM monthly_metrics ORDER BY 1,2\n",
            "\n",
            "Question 29:\n",
            "SELECT DIV_PRODUCT_TITLE, AVG(CONVERSION_RATE) AS AVG_CVR FROM test_table WHERE DIV_BRAND = 'NYX PROFESSIONAL MAKEUP' AND SYNDICATED_YEAR_NAME = 2019 AND SYNDICATED_QUARTER_NAME = 1 GROUP BY DIV_PRODUCT_TITLE ORDER BY AVG_CVR DESC LIMIT 1\n",
            "\n",
            "Question 30:\n",
            "SELECT SUM(NUMBER_CLICKS) AS TOTAL_CLICKS FROM test_table WHERE DIV_AXE = 'MAKEUP' AND SYNDICATED_YEAR_NAME = 2023 AND NUMBER_CLICKS NOT NULL\n",
            "\n",
            "Question 31:\n",
            "SELECT SUM(ORDERED_REVENUE) AS ORDERED_REVENUE FROM test_table WHERE DIV_DIVISION = 'CPD' AND SYNDICATED_YEAR_NAME = 2023\n",
            "\n",
            "Question 32:\n",
            "SELECT DIV_PRODUCT_TITLE, SUM(REP_OOS) AS TOTAL_OOS_DAYS FROM test_table WHERE DIV_MASTER_CATEGORY = 'HAIR COLOR' AND SYNDICATED_YEAR_NAME = 2023 GROUP BY DIV_PRODUCT_TITLE ORDER BY TOTAL_OOS_DAYS DESC LIMIT 1\n",
            "\n",
            "Question 33:\n",
            "SELECT DIV_PRODUCT_TITLE, SUM(NUMBER_CLICKS) AS TOTAL_CLICKS FROM test_table WHERE DIV_AXE = 'MAKEUP' AND SYNDICATED_YEAR_NAME = 2019 AND SYNDICATED_QUARTER_NAME = 2 AND NUMBER_CLICKS NOT NULL GROUP BY DIV_PRODUCT_TITLE\n",
            "\n",
            "Question 34:\n",
            "SELECT DIV_BRAND, SUM(ORDERED_REVENUE) AS TOTAL_ORDERED_REVENUE FROM test_table WHERE DIV_MASTER_CATEGORY = 'COSMETICS' AND SYNDICATED_YEAR_NAME = 2023 GROUP BY DIV_BRAND ORDER BY TOTAL_ORDERED_REVENUE DESC LIMIT 1\n",
            "\n",
            "Question 35:\n",
            "SELECT DIV_PRODUCT_TITLE, (SUM(CASE WHEN SYNDICATED_YEAR_NAME = 2023 THEN ORDERED_REVENUE ELSE 0 END) - SUM(CASE WHEN SYNDICATED_YEAR_NAME = 2022 THEN ORDERED_REVENUE ELSE 0 END)) AS REVENUE_GROWTH, ((SUM(CASE WHEN SYNDICATED_YEAR_NAME = 2023 THEN ORDERED_REVENUE ELSE 0 END) - SUM(CASE WHEN SYNDICATED_YEAR_NAME = 2022 THEN ORDERED_REVENUE ELSE 0 END)) / SUM(CASE WHEN SYNDICATED_YEAR_NAME = 2022 THEN ORDERED_REVENUE ELSE 0 END)) * 100 AS GROWTH_PERCENT FROM test_table WHERE DIV_MASTER_CATEGORY = 'HAIR CARE' AND SYNDICATED_YEAR_NAME IN (2022, 2023) GROUP BY DIV_PRODUCT_TITLE HAVING GROWTH_PERCENT >= 10 ORDER BY REVENUE_GROWTH DESC LIMIT 3\n",
            "\n",
            "Question 36:\n",
            "SELECT DIV_PRODUCT_TITLE, AVG(AVERAGE_ORDERED_REVENUE_PRICE) AS AVG_PRICE FROM test_table WHERE DIV_MASTER_CATEGORY = 'HAIR CARE' AND SYNDICATED_YEAR_NAME = 2023 GROUP BY DIV_PRODUCT_TITLE ORDER BY AVG_PRICE DESC LIMIT 5\n",
            "\n",
            "Question 37:\n",
            "SELECT DIV_PRODUCT_TITLE, AVG(CONVERSION_RATE) AS AVG_CVR FROM test_table WHERE DIV_AXE = 'FRAGRANCE' AND SYNDICATED_YEAR_NAME = 2023 GROUP BY DIV_PRODUCT_TITLE ORDER BY AVG_CVR DESC LIMIT 5\n",
            "\n",
            "Question 38:\n",
            "SELECT DIV_PRODUCT_TITLE, SUM(ORDERED_UNITS) AS ORDERED_UNITS FROM test_table WHERE DIV_AXE = 'STYLING' AND SYNDICATED_YEAR_NAME = 2023 GROUP BY DIV_PRODUCT_TITLE ORDER BY ORDERED_UNITS DESC LIMIT 1\n",
            "\n",
            "Question 39:\n",
            "SELECT DIV_PRODUCT_TITLE, SUM(ORDERED_REVENUE) AS ORDERED_REVENUE FROM test_table WHERE DIV_MASTER_CATEGORY = 'COSMETICS' GROUP BY DIV_PRODUCT_TITLE ORDER BY ORDERED_REVENUE DESC LIMIT 3\n",
            "\n",
            "Question 40:\n",
            "SELECT DIV_PRODUCT_TITLE, SUM(GLANCE_VIEWS) AS TOTAL_GV FROM test_table WHERE DIV_MASTER_CATEGORY = 'HAIR CARE' AND SYNDICATED_YEAR_NAME = 2023 AND SYNDICATED_QUARTER_NAME = 1 AND GLANCE_VIEWS NOT NULL GROUP BY DIV_PRODUCT_TITLE ORDER BY TOTAL_GV DESC LIMIT 5\n",
            "\n",
            "Question 41:\n",
            "SELECT DIV_PRODUCT_TITLE, AVG(CONVERSION_RATE) AS AVG_CVR FROM test_table WHERE DIV_DIVISION = 'CPD' AND SYNDICATED_YEAR_NAME = 2023 GROUP BY DIV_PRODUCT_TITLE ORDER BY AVG_CVR DESC LIMIT 1\n",
            "\n",
            "Question 42:\n",
            "SELECT DIV_PRODUCT_TITLE, SUM(GLANCE_VIEWS) AS TOTAL_GV FROM test_table WHERE DIV_MASTER_CATEGORY = 'HAIR CARE' AND SYNDICATED_YEAR_NAME = 2021 AND SYNDICATED_QUARTER_NAME = 1 AND GLANCE_VIEWS NOT NULL GROUP BY DIV_PRODUCT_TITLE ORDER BY TOTAL_GV DESC LIMIT 3\n",
            "\n",
            "Question 43:\n",
            "SELECT SUM(ORDERED_REVENUE) AS TOTAL_ORDERED_REVENUE FROM test_table WHERE DIV_BRAND = 'MAYBELLINE' AND SYNDICATED_YEAR_NAME = 2019 AND SYNDICATED_MONTH_NAME = 1\n",
            "\n",
            "Question 44:\n",
            "SELECT DIV_BRAND, AVG(YTD_RETAIL_MARGIN) AS AVG_RETAIL_MARGIN FROM test_table WHERE SYNDICATED_YEAR_NAME = 2023 GROUP BY DIV_BRAND ORDER BY AVG_RETAIL_MARGIN DESC LIMIT 1\n",
            "\n",
            "Question 45:\n",
            "SELECT DIV_PRODUCT_TITLE, AVG(AVERAGE_ORDERED_REVENUE_PRICE) AS AVG_PRICE FROM test_table WHERE DIV_AXE = 'MAKEUP' GROUP BY DIV_PRODUCT_TITLE ORDER BY AVG_PRICE DESC LIMIT 3\n",
            "\n",
            "Question 46:\n",
            "SELECT DIV_PRODUCT_TITLE, SUM(CHARGEBACK) AS TOTAL_CHARGEBACKS FROM test_table WHERE DIV_DIVISION = 'ACD' AND SYNDICATED_YEAR_NAME = 2023 AND CHARGEBACK NOT NULL GROUP BY DIV_PRODUCT_TITLE ORDER BY TOTAL_CHARGEBACKS DESC LIMIT 5\n",
            "\n",
            "Question 47:\n",
            "SELECT SUM(ORDERED_REVENUE) AS ORDERED_REVENUE, DIV_BRAND FROM test_table WHERE SYNDICATED_YEAR_NAME = 2023 GROUP BY DIV_BRAND\n",
            "\n",
            "Question 48:\n",
            "SELECT DIV_PRODUCT_TITLE, SUM(ORDERED_UNITS) AS TOTAL_ORDERED_UNITS FROM test_table WHERE DIV_DIVISION = 'ACD' AND DIV_MASTER_CATEGORY = 'SKIN CARE' AND SYNDICATED_YEAR_NAME = 2023 GROUP BY DIV_PRODUCT_TITLE ORDER BY TOTAL_ORDERED_UNITS DESC LIMIT 5\n",
            "\n",
            "Question 49:\n",
            "SELECT DIV_PRODUCT_TITLE, MIN(DIV_MSRP) AS MIN_MSRP FROM test_table WHERE DIV_MASTER_CATEGORY = 'FRAGRANCE' AND DIV_MSRP NOT NULL  GROUP BY DIV_PRODUCT_TITLE ORDER BY MIN_MSRP ASC LIMIT 1\n",
            "\n",
            "Question 50:\n",
            "WITH TOP_PRODUCTS AS (SELECT DIV_PRODUCT_TITLE, SUM(ORDERED_REVENUE) AS ORDERED_REVENUE FROM test_table WHERE DIV_DIVISION = 'ACD' AND SYNDICATED_YEAR_NAME = 2022 GROUP BY DIV_PRODUCT_TITLE ORDER BY ORDERED_REVENUE DESC LIMIT 5) SELECT AVG(AVERAGE_ORDERED_REVENUE_PRICE) AS AVG_PRICE FROM test_table WHERE DIV_PRODUCT_TITLE IN (SELECT DIV_PRODUCT_TITLE FROM TOP_PRODUCTS)\n",
            "\n",
            "Question 51:\n",
            "SELECT DIV_PRODUCT_TITLE, MAX(SPEND) AS HIGHEST_SPEND FROM test_table WHERE DIV_MASTER_CATEGORY = 'HAIR CARE' AND SYNDICATED_YEAR_NAME = 2023 GROUP BY DIV_PRODUCT_TITLE ORDER BY HIGHEST_SPEND DESC LIMIT 1\n",
            "\n",
            "Question 52:\n",
            "SELECT DIV_BRAND, MAX(SELLABLE_OH_INVENTORY) AS MAX_INVENTORY FROM test_table WHERE DIV_MASTER_CATEGORY = 'HAIR CARE' AND SYNDICATED_YEAR_NAME = 2022 AND SELLABLE_OH_INVENTORY NOT NULL AND SYNDICATED_MONTH_NAME = 5 GROUP BY DIV_BRAND ORDER BY MAX_INVENTORY DESC LIMIT 1\n",
            "\n",
            "Question 53:\n",
            "SELECT SUM(ORDERED_UNITS) AS ORDERED_UNITS FROM test_table WHERE DIV_MASTER_CATEGORY = 'FACIAL SKINCARE' AND SYNDICATED_YEAR_NAME = 2023\n",
            "\n",
            "Question 54:\n",
            "SELECT DIV_PRODUCT_TITLE, MAX(YTD_RETAIL_MARGIN) AS MAX_MARGIN FROM test_table WHERE DIV_MASTER_CATEGORY = 'COLOR COSMETICS' AND SYNDICATED_YEAR_NAME = 2023 GROUP BY DIV_PRODUCT_TITLE ORDER BY MAX_MARGIN DESC LIMIT 1\n",
            "\n",
            "Question 55:\n",
            "SELECT DIV_PRODUCT_TITLE, SUM(ORDERED_REVENUE) AS TOTAL_ORDERED_REVENUE FROM test_table WHERE DIV_MASTER_CATEGORY = 'SKIN CARE' AND DIV_DIVISION = 'ACD' AND SYNDICATED_YEAR_NAME = 2023 GROUP BY DIV_PRODUCT_TITLE ORDER BY TOTAL_ORDERED_REVENUE DESC LIMIT 5\n",
            "\n",
            "Question 56:\n",
            "SELECT DIV_BRAND, DIV_PRODUCT_TITLE, SUM(NUMBER_CLICKS) AS TOTAL_CLICKS FROM test_table WHERE DIV_AXE = 'MAKEUP' AND SYNDICATED_YEAR_NAME = 2019 AND SYNDICATED_QUARTER_NAME = 2 AND NUMBER_CLICKS NOT NULL GROUP BY DIV_BRAND, DIV_PRODUCT_TITLE\n",
            "\n",
            "Question 57:\n",
            "SELECT DIV_PRODUCT_TITLE, SUM(CHARGEBACK) AS TOTAL_CHARGEBACKS FROM test_table WHERE DIV_AXE = 'MAKEUP' AND SYNDICATED_YEAR_NAME = 2023 AND CHARGEBACK NOT NULL GROUP BY DIV_PRODUCT_TITLE ORDER BY TOTAL_CHARGEBACKS DESC LIMIT 1\n",
            "\n",
            "Question 58:\n",
            "SELECT SUM(ORDERED_REVENUE) AS ORDERED_REVENUE FROM test_table WHERE DIV_DIVISION = 'ACD' AND SYNDICATED_YEAR_NAME = 2023\n",
            "\n",
            "Question 59:\n",
            "SELECT COUNT(1) FROM (SELECT DISTINCT(DIV_PRODUCT_TITLE) FROM test_table WHERE DIV_DIVISION = 'ACD')\n",
            "\n",
            "Question 60:\n",
            "SELECT DIV_PRODUCT_TITLE, MAX(AVERAGE_ORDERED_REVENUE_PRICE) AS MAX_PRICE FROM test_table WHERE DIV_AXE = 'NAIL' GROUP BY DIV_PRODUCT_TITLE ORDER BY MAX_PRICE DESC LIMIT 1\n",
            "\n",
            "Question 61:\n",
            "SELECT DIV_PRODUCT_TITLE, SUM(ORDERED_UNITS) AS TOTAL_ORDERED_UNITS FROM test_table WHERE DIV_AXE = 'MAKEUP' AND DIV_DIVISION = 'ACD' AND SYNDICATED_YEAR_NAME = 2023 GROUP BY DIV_PRODUCT_TITLE ORDER BY TOTAL_ORDERED_UNITS DESC LIMIT 1\n",
            "\n",
            "Question 62:\n",
            "SELECT DIV_PRODUCT_TITLE, SUM(PO_QTY_REQUESTED) AS TOTAL_PO_REQUESTED FROM test_table WHERE DIV_MASTER_CATEGORY = 'SKIN CARE' AND SYNDICATED_YEAR_NAME = 2023 GROUP BY DIV_PRODUCT_TITLE ORDER BY TOTAL_PO_REQUESTED DESC LIMIT 1\n",
            "\n",
            "Question 63:\n",
            "SELECT DIV_BRAND, AVG(CONVERSION_RATE) AS AVG_CVR FROM test_table WHERE DIV_AXE = 'MAKEUP' AND SYNDICATED_YEAR_NAME = 2023 AND CONVERSION_RATE NOT NULL GROUP BY DIV_BRAND ORDER BY AVG_CVR DESC LIMIT 3\n",
            "\n",
            "Question 64:\n",
            "SELECT DIV_PRODUCT_TITLE, MAX(AVERAGE_ORDERED_REVENUE_PRICE) AS HIGHEST_AVG_PRICE FROM test_table WHERE DIV_MASTER_CATEGORY = 'SKIN CARE' AND SYNDICATED_YEAR_NAME = 2023 GROUP BY DIV_PRODUCT_TITLE ORDER BY HIGHEST_AVG_PRICE DESC LIMIT 1\n",
            "\n",
            "Question 65:\n",
            "SELECT DIV_PRODUCT_TITLE, AVG(AVERAGE_ORDERED_REVENUE_PRICE) AS HIGHEST_AVG_PRICE FROM test_table WHERE DIV_MASTER_CATEGORY = 'FACIAL SKINCARE' AND SYNDICATED_YEAR_NAME = 2021 AND SYNDICATED_QUARTER_NAME = 3 GROUP BY DIV_PRODUCT_TITLE ORDER BY HIGHEST_AVG_PRICE DESC LIMIT 1\n",
            "\n",
            "Question 66:\n",
            "SELECT DIV_PRODUCT_TITLE, MIN(AVERAGE_ORDERED_REVENUE_PRICE) AS MIN_PRICE FROM test_table WHERE DIV_MASTER_CATEGORY = 'SKIN' AND AVERAGE_ORDERED_REVENUE_PRICE NOT NULL GROUP BY DIV_PRODUCT_TITLE ORDER BY MIN_PRICE ASC LIMIT 1\n",
            "\n",
            "Question 67:\n",
            "SELECT DIV_PRODUCT_TITLE, SUM(GLANCE_VIEWS) AS TOTAL_GV FROM test_table WHERE DIV_MASTER_CATEGORY = 'COSMETICS' AND SYNDICATED_YEAR_NAME = 2023 GROUP BY DIV_PRODUCT_TITLE ORDER BY TOTAL_GV DESC LIMIT 5\n",
            "\n",
            "Question 68:\n",
            "SELECT AVG(YTD_RETAIL_MARGIN) FROM test_table WHERE DIV_PRODUCT_TITLE = 'La Roche-Posay Thermal Spring Water, 10.1 Fl oz.' AND SYNDICATED_YEAR_NAME = 2023\n",
            "\n",
            "Question 69:\n",
            "SELECT DIV_BRAND, AVG(CONVERSION_RATE) AS AVG_CVR FROM test_table WHERE SYNDICATED_YEAR_NAME = 2023 GROUP BY DIV_BRAND ORDER BY AVG_CVR DESC LIMIT 1\n",
            "\n",
            "Question 70:\n",
            "SELECT SUM(NUMBER_CLICKS) AS TOTAL_CLICKS FROM test_table WHERE DIV_DIVISION = 'LPD' AND DIV_BRAND = 'RALPH LAUREN' AND DIV_MASTER_CATEGORY = 'FRAGRANCE' AND SYNDICATED_YEAR_NAME = 2019 AND SYNDICATED_QUARTER_NAME = 4\n",
            "\n",
            "Question 71:\n",
            "SELECT SUM(NUMBER_CLICKS) AS TOTAL_CLICKS FROM test_table WHERE DIV_AXE = 'MAKEUP' AND SYNDICATED_YEAR_NAME = 2019 AND SYNDICATED_QUARTER_NAME = 2 AND NUMBER_CLICKS NOT NULL\n",
            "\n",
            "Question 72:\n",
            "SELECT SUM(ORDERED_REVENUE) AS ORDERED_REVENUE FROM test_table WHERE DIV_MASTER_CATEGORY = 'FACIAL SKINCARE' AND SYNDICATED_YEAR_NAME = 2023\n",
            "\n",
            "Question 73:\n",
            "SELECT DIV_DIVISION, SUM(ORDERED_UNITS) AS UNITS_SOLD FROM test_table WHERE SYNDICATED_YEAR_NAME = 2023 GROUP BY DIV_DIVISION\n",
            "\n",
            "Question 74:\n",
            "SELECT DIV_PRODUCT_TITLE, MAX(YTD_RETAIL_MARGIN) AS MAX_MARGIN FROM test_table WHERE DIV_AXE = 'MAKEUP' AND SYNDICATED_YEAR_NAME = 2023 GROUP BY DIV_PRODUCT_TITLE ORDER BY MAX_MARGIN DESC LIMIT 1\n",
            "\n",
            "Question 75:\n",
            "SELECT SUM(SPEND) AS TOTAL_AD_SPEND FROM test_table WHERE DIV_DIVISION = 'LPD' AND DIV_BRAND = 'LANCOME' AND DIV_MASTER_CATEGORY = 'SKIN CARE' AND SYNDICATED_YEAR_NAME = 2023 AND SYNDICATED_QUARTER_NAME = 1\n",
            "\n",
            "Question 76:\n",
            "SELECT SUM(SPEND) AS TOTAL_AD_SPEND FROM test_table WHERE DIV_MASTER_CATEGORY = 'HAIR COLOR' AND DIV_DIVISION = 'CPD' AND SYNDICATED_YEAR_NAME = 2019 AND SPEND NOT NULL\n",
            "\n",
            "Question 77:\n",
            "SELECT DIV_BRAND, (SUM(CASE WHEN SYNDICATED_YEAR_NAME = 2022 THEN ORDERED_UNITS ELSE 0 END) - SUM(CASE WHEN SYNDICATED_YEAR_NAME = 2021 THEN ORDERED_UNITS ELSE 0 END)) AS UNIT_GROWTH FROM test_table WHERE DIV_MASTER_CATEGORY = 'COSMETICS' AND SYNDICATED_YEAR_NAME IN (2021, 2022) GROUP BY DIV_BRAND ORDER BY UNIT_GROWTH DESC LIMIT 3\n",
            "\n",
            "Question 78:\n",
            "SELECT DIV_PRODUCT_TITLE, SUM(ORDERED_UNITS) AS UNITS_SOLD FROM test_table WHERE DIV_MASTER_CATEGORY = 'HAIR COLOR' AND SYNDICATED_YEAR_NAME = 2023 GROUP BY DIV_PRODUCT_TITLE ORDER BY UNITS_SOLD DESC LIMIT 1\n",
            "\n",
            "Question 79:\n",
            "SELECT DIV_PRODUCT_TITLE, MAX(RETAIL_MARGIN) AS HIGHEST_MARGIN FROM test_table WHERE DIV_MASTER_CATEGORY = 'HAIR COLOR' AND DIV_DIVISION = 'CPD' AND SYNDICATED_YEAR_NAME = 2023 GROUP BY DIV_PRODUCT_TITLE ORDER BY HIGHEST_MARGIN DESC LIMIT 1\n",
            "\n",
            "Question 80:\n",
            "SELECT DIV_PRODUCT_TITLE, MIN(RETAIL_MARGIN) AS LOWEST_MARGIN FROM test_table WHERE SYNDICATED_YEAR_NAME = 2020 AND SYNDICATED_QUARTER_NAME=4 AND RETAIL_MARGIN NOT NULL GROUP BY DIV_PRODUCT_TITLE ORDER BY LOWEST_MARGIN ASC LIMIT 1\n",
            "\n",
            "Question 81:\n",
            "SELECT COUNT (1) FROM (SELECT DISTINCT(DIV_PRODUCT_TITLE) FROM test_table WHERE DIV_BRAND = 'LA ROCHE-POSAY')\n",
            "\n",
            "Question 82:\n",
            "SELECT DIV_PRODUCT_TITLE, SUM(ORDERED_UNITS) AS UNITS_SOLD FROM test_table WHERE DIV_MASTER_CATEGORY = 'SKIN CARE' AND SYNDICATED_YEAR_NAME = 2022 GROUP BY DIV_PRODUCT_TITLE\n",
            "\n",
            "Question 83:\n",
            "SELECT AVG(ORDERED_REVENUE) AS AVG_ORDERED_REVENUE, DIV_PRODUCT_TITLE FROM (SELECT DIV_PRODUCT_TITLE, ORDERED_REVENUE FROM test_table WHERE DIV_DIVISION = 'ACD' AND ORDERED_REVENUE IS NOT NULL AND ORDERED_REVENUE > 0) GROUP BY DIV_PRODUCT_TITLE ORDER BY AVG_ORDERED_REVENUE ASC LIMIT 5\n",
            "\n",
            "Question 84:\n",
            "SELECT DIV_PRODUCT_TITLE, MAX(YTD_ORDERED_REVENUE) AS HIGHEST_YTD_ORDERED_REVENUE FROM test_table WHERE DIV_MASTER_CATEGORY = 'SKIN CARE' AND SYNDICATED_YEAR_NAME = 2019 AND YTD_ORDERED_REVENUE NOT NULL GROUP BY DIV_PRODUCT_TITLE ORDER BY HIGHEST_YTD_ORDERED_REVENUE DESC LIMIT 1\n",
            "\n",
            "Question 85:\n",
            "SELECT DIV_PRODUCT_TITLE, MAX(YTD_RETAIL_MARGIN) AS MAX_MARGIN FROM test_table WHERE DIV_MASTER_CATEGORY = 'SKIN CARE' AND SYNDICATED_YEAR_NAME = 2023 GROUP BY DIV_PRODUCT_TITLE ORDER BY MAX_MARGIN DESC LIMIT 1\n",
            "\n",
            "Question 86:\n",
            "SELECT DIV_PRODUCT_TITLE, SUM(GLANCE_VIEWS) AS TOTAL_GV FROM test_table WHERE DIV_MASTER_CATEGORY = 'HAIR CARE' AND SYNDICATED_YEAR_NAME = 2023 GROUP BY DIV_PRODUCT_TITLE ORDER BY TOTAL_GV DESC LIMIT 1\n",
            "\n",
            "Question 87:\n",
            "SELECT DIV_PRODUCT_TITLE, MAX(YTD_RETAIL_MARGIN) AS HIGHEST_YTD_MARGIN FROM test_table WHERE DIV_MASTER_CATEGORY = 'FACIAL SKINCARE' AND SYNDICATED_YEAR_NAME = 2023 GROUP BY DIV_PRODUCT_TITLE ORDER BY HIGHEST_YTD_MARGIN DESC LIMIT 1\n",
            "\n",
            "Question 88:\n",
            "SELECT SUM(NUMBER_CLICKS) AS TOTAL_CLICKS FROM test_table WHERE DIV_MASTER_CATEGORY = 'HAIR CARE' AND SYNDICATED_YEAR_NAME = 2020 AND SYNDICATED_MONTH_NAME = 2\n",
            "\n",
            "Question 89:\n",
            "SELECT AVG(AVERAGE_ORDERED_REVENUE_PRICE) FROM test_table WHERE DIV_BRAND = 'LA ROCHE-POSAY'\n",
            "\n",
            "Question 90:\n",
            "SELECT DIV_PRODUCT_TITLE, AVG(AVERAGE_ORDERED_REVENUE_PRICE) AS AVG_PRICE FROM test_table WHERE DIV_MASTER_CATEGORY = 'FRAGRANCE' AND SYNDICATED_YEAR_NAME = 2023 GROUP BY DIV_PRODUCT_TITLE ORDER BY AVG_PRICE DESC LIMIT 1\n",
            "\n",
            "Question 91:\n",
            "SELECT DIV_PRODUCT_TITLE, SUM(ORDERED_REVENUE) AS ORDERED_REVENUE FROM test_table WHERE DIV_MASTER_CATEGORY = 'SKIN CARE' GROUP BY DIV_PRODUCT_TITLE, DIV_MASTER_CATEGORY ORDER BY ORDERED_REVENUE DESC LIMIT 3\n",
            "\n",
            "Question 92:\n",
            "SELECT SUM(ORDERED_REVENUE) AS ORDERED_REVENUE FROM test_table WHERE DIV_BRAND = \"L'OREAL PARIS\" AND DIV_MASTER_CATEGORY = 'HAIR CARE' AND SYNDICATED_YEAR_NAME = 2023\n",
            "\n",
            "Question 93:\n",
            "SELECT SUM(SPEND) AS TOTAL_AD_SPEND FROM test_table WHERE DIV_MASTER_CATEGORY = 'COLOR COSMETICS' AND SYNDICATED_YEAR_NAME = 2023\n",
            "\n",
            "Question 94:\n",
            "SELECT AVG(AVERAGE_ORDERED_REVENUE_PRICE) AS AVG_PRICE FROM test_table WHERE DIV_MASTER_CATEGORY = SKIN' AND SYNDICATED_YEAR_NAME = 2023\n",
            "\n",
            "Question 95:\n",
            "SELECT DIV_BRAND, AVG(AVERAGE_ORDERED_REVENUE_PRICE) AS AVG_PRICE FROM test_table WHERE DIV_MASTER_CATEGORY = 'HAIR CARE' AND SYNDICATED_YEAR_NAME = 2023 GROUP BY DIV_BRAND\n",
            "\n",
            "Question 96:\n",
            "SELECT DIV_PRODUCT_TITLE, MAX(DIV_MSRP) AS MAX_MSRP FROM test_table WHERE DIV_MASTER_CATEGORY = 'HAIR COLOR' GROUP BY DIV_PRODUCT_TITLE ORDER BY MAX_MSRP DESC LIMIT 1\n",
            "\n",
            "Question 97:\n",
            "SELECT DIV_PRODUCT_TITLE, SUM(ORDERED_REVENUE) AS ORDERED_REVENUE FROM test_table WHERE DIV_MASTER_CATEGORY = 'SKIN' AND SYNDICATED_YEAR_NAME = 2023 GROUP BY DIV_PRODUCT_TITLE ORDER BY ORDERED_REVENUE DESC LIMIT 1\n",
            "\n",
            "Question 98:\n",
            "SELECT SUM(SPEND_COMPETETIVE) AS TOTAL_COMPETITIVE_SPEND FROM test_table WHERE DIV_DIVISION = 'LPD' AND SYNDICATED_YEAR_NAME = 2023 AND SPEND_COMPETETIVE NOT NULL\n",
            "\n",
            "Question 99:\n",
            "SELECT DIV_PRODUCT_TITLE, MAX(NET_MARGIN) AS MAX_NET_MARGIN FROM test_table WHERE DIV_AXE = 'MAKEUP' AND SYNDICATED_YEAR_NAME = 2023 AND NET_MARGIN NOT NULL GROUP BY DIV_PRODUCT_TITLE ORDER BY NET_MARGIN DESC LIMIT 3\n",
            "\n",
            "Question 100:\n",
            "SELECT DIV_BRAND, SUM(YTD_ORDERED_REVENUE) AS TOTAL_YTD_ORDERED_REVENUE FROM test_table WHERE DIV_DIVISION = 'ACD' AND SYNDICATED_YEAR_NAME = 2023 AND YTD_ORDERED_REVENUE NOT NULL GROUP BY DIV_BRAND ORDER BY TOTAL_YTD_ORDERED_REVENUE DESC LIMIT 1\n",
            "\n",
            "Question 101:\n",
            "SELECT DIV_PRODUCT_TITLE, SUM(REP_OOS) AS TOTAL_OOS_DAYS FROM test_table WHERE DIV_MASTER_CATEGORY = 'HAIR CARE' AND SYNDICATED_YEAR_NAME = 2021 AND REP_OOS NOT NULL GROUP BY DIV_PRODUCT_TITLE ORDER BY TOTAL_OOS_DAYS DESC LIMIT 1\n",
            "\n",
            "Execution Accuracy: 13.861386138613863%\n"
          ]
        },
        {
          "name": "stderr",
          "output_type": "stream",
          "text": [
            "\n"
          ]
        }
      ],
      "source": [
        "import openai\n",
        "from tqdm import tqdm\n",
        "import time\n",
        "import pandas as pd\n",
        "import random\n",
        "import sqlite3\n",
        "from openai import OpenAI\n",
        "def calculate_exact_match_score(gpt_query, ground_truth):\n",
        "    # Remove leading/trailing whitespace and convert both queries to the same case for a fair comparison.\n",
        "    gpt_query = gpt_query.strip().lower()\n",
        "    ground_truth = ground_truth.strip().lower()\n",
        "\n",
        "    # Check if the queries are exactly the same.\n",
        "    if gpt_query == ground_truth:\n",
        "        return 1  # Exact match\n",
        "    else:\n",
        "        return 0  # Not an exact match\n",
        "\n",
        "em_score=[]\n",
        "response_times = []\n",
        "# Connect to a SQLite database\n",
        "client = OpenAI()\n",
        "conn = sqlite3.connect('my_database.db')\n",
        "# Write the data to a SQLite table\n",
        "df.to_sql('test_table', conn, if_exists='replace', index=False)\n",
        "\n",
        "\n",
        "\n",
        "# Define the number of questions to use in the test set\n",
        "num_questions_to_test = 101\n",
        "test_questions = questions_df.sample(num_questions_to_test)\n",
        "\n",
        "sql_queries_from_gpt = []\n",
        "ground_truth_queries = []\n",
        "successful_executions = 0\n",
        "\n",
        "for index, question_info in tqdm(test_questions.iterrows(), total=num_questions_to_test):\n",
        "  start_time = time.time()\n",
        "    # Construct the prompt for GPT\n",
        "  prompt = (\n",
        "        f\"Question: {question_info['Question']}\\n\"\n",
        "        \"Given all the column names you may choose which column to use. Please provide a single line of SQL query for this.\"\n",
        "    )\n",
        "\n",
        "    # Send the question to GPT-3 and request only one line of SQL code\n",
        "  response = client.chat.completions.create(\n",
        "      model=\"gpt-3.5-turbo\",\n",
        "      messages=[\n",
        "        {\n",
        "          \"role\": \"system\",\n",
        "          \"content\": f\"Your job is to write a SQL query based on the given user request.\\n\\nThere is only one table to operate on and I can only provide with you all the col names, so in the response SQL code, you will have to figure out what cols to use. The col names is here {sql_schema_list} Remember, you only return one line of SQL code and nothing else. Note all data is in one table called test_table, and the name of the year col is SYNDICATED_YEAR_NAME. \"\n",
        "          },\n",
        "        {\n",
        "          \"role\": \"user\",\n",
        "          \"content\": f\"Question: {question_info['Question']}\\n Given all the column names you may choose which column to use. Please provide a single line of SQL query for this.\"\n",
        "        }\n",
        "      ],\n",
        "      temperature=0.7,\n",
        "      max_tokens=60,\n",
        "      top_p=1\n",
        "    )\n",
        "    # Extract the SQL query generated by GPT-3\n",
        "  end_time = time.time()\n",
        "  response_times.append(end_time - start_time)\n",
        "  sql_query_from_gpt = response.choices[0].message.content.strip()\n",
        "\n",
        "    # Execute the GPT-3 generated SQL query\n",
        "  try:\n",
        "      cursor = conn.cursor()\n",
        "      cursor.execute(sql_query_from_gpt)\n",
        "      result_from_gpt = cursor.fetchall()\n",
        "      cursor.close()\n",
        "  except Exception as e:\n",
        "      result_from_gpt = str(e)\n",
        "\n",
        "  # Extract and execute the ground truth SQL query\n",
        "  ground_truth_query = question_info[\"SQL Query\"]\n",
        "  try:\n",
        "      cursor = conn.cursor()\n",
        "      cursor.execute(ground_truth_query)\n",
        "      result_from_ground_truth = cursor.fetchall()\n",
        "      cursor.close()\n",
        "  except Exception as e:\n",
        "      result_from_ground_truth = str(e)\n",
        "\n",
        "  # Compare results for execution accuracy\n",
        "  print(result_from_gpt)\n",
        "  print(result_from_ground_truth)\n",
        "  if not (result_from_gpt == 'e' and result_from_ground_truth == 'e'):\n",
        "    if result_from_gpt and result_from_ground_truth:\n",
        "        if result_from_gpt == result_from_ground_truth:\n",
        "            successful_executions += 1\n",
        "\n",
        "\n",
        "  # Store results for analysis\n",
        "  em_score.append(calculate_exact_match_score(sql_query_from_gpt, ground_truth_query))\n",
        "  sql_queries_from_gpt.append(sql_query_from_gpt)\n",
        "  ground_truth_queries.append(ground_truth_query)\n",
        "\n",
        "# Close the database connection\n",
        "conn.close()\n",
        "avg_response_time = sum(response_times) / len(response_times) if response_times else 0\n",
        "\n",
        "# Calculate execution accuracy\n",
        "execution_accuracy = (successful_executions / num_questions_to_test) * 100\n",
        "exact_match = (sum(em_score)/num_questions_to_test)* 100\n",
        "# Print the results and correctness rates\n",
        "print(\"SQL Queries from GPT:\")\n",
        "for i, query in enumerate(sql_queries_from_gpt):\n",
        "    print(f\"Question {i+1}:\\n{query}\\n\")\n",
        "\n",
        "print(\"Ground Truth SQL Queries:\")\n",
        "for i, query in enumerate(ground_truth_queries):\n",
        "    print(f\"Question {i+1}:\\n{query}\\n\")\n",
        "\n",
        "print(f\"Execution Accuracy: {execution_accuracy}%\")\n"
      ]
    },
    {
      "cell_type": "code",
      "execution_count": null,
      "metadata": {
        "colab": {
          "base_uri": "https://localhost:8080/"
        },
        "id": "FOYhxq2BHpCQ",
        "outputId": "de5b1b0a-ac56-45d1-d9c2-d430c63a33ef"
      },
      "outputs": [
        {
          "name": "stdout",
          "output_type": "stream",
          "text": [
            "Execution Accuracy: 13.861386138613863%\n"
          ]
        }
      ],
      "source": [
        "print(f\"Execution Accuracy: {execution_accuracy}%\")"
      ]
    },
    {
      "cell_type": "code",
      "execution_count": null,
      "metadata": {
        "colab": {
          "base_uri": "https://localhost:8080/"
        },
        "id": "2x25lhw3C-OZ",
        "outputId": "e31691b4-82bb-4288-95ab-98f3745709ea"
      },
      "outputs": [
        {
          "name": "stdout",
          "output_type": "stream",
          "text": [
            "Exact Match Rate: 0.0%\n"
          ]
        }
      ],
      "source": [
        "print(f\"Exact Match Rate: {exact_match}%\")"
      ]
    },
    {
      "cell_type": "code",
      "execution_count": null,
      "metadata": {
        "colab": {
          "base_uri": "https://localhost:8080/"
        },
        "id": "lY2wmg64C--B",
        "outputId": "1aa5cfc0-bab7-437f-d2ab-01aba850afc3"
      },
      "outputs": [
        {
          "name": "stdout",
          "output_type": "stream",
          "text": [
            "Average Time Per Response: 2.2195241687321428s\n"
          ]
        }
      ],
      "source": [
        "print(f\"Average Time Per Response: {avg_response_time}s\")"
      ]
    }
  ],
  "metadata": {
    "colab": {
      "provenance": []
    },
    "kernelspec": {
      "display_name": "Python 3",
      "name": "python3"
    },
    "language_info": {
      "name": "python"
    }
  },
  "nbformat": 4,
  "nbformat_minor": 0
}
