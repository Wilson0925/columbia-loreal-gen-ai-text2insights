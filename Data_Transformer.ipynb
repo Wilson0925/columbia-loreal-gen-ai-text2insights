{
 "cells": [
  {
   "cell_type": "code",
   "execution_count": 6,
   "id": "c4227ff0-cf41-41eb-8727-4f50ee0dbfe9",
   "metadata": {},
   "outputs": [],
   "source": [
    "# !pip install pandas\n",
    "# !pip install openpyxl"
   ]
  },
  {
   "cell_type": "code",
   "execution_count": 13,
   "id": "45881d17-e26d-4f8e-a393-33e8b743f3e9",
   "metadata": {},
   "outputs": [
    {
     "name": "stdout",
     "output_type": "stream",
     "text": [
      "                                                 0   \\\n",
      "0                                       Table Name:   \n",
      "1                         Natural Language Question   \n",
      "2                        What is ACD total revenue?   \n",
      "3    What is the total sales for each brand in YTD?   \n",
      "4                            What is LRP’s avg ASP?   \n",
      "..                                              ...   \n",
      "288             GLANCE_VIEWS_SAME_PERIOD_LY_QUARTER   \n",
      "289            ORDERED_REVENUE_SAME_PERIOD_LY_MONTH   \n",
      "290          ORDERED_REVENUE_SAME_PERIOD_LY_QUARTER   \n",
      "291              ORDERED_UNITS_SAME_PERIOD_LY_MONTH   \n",
      "292            ORDERED_UNITS_SAME_PERIOD_LY_QUARTER   \n",
      "\n",
      "                                                    1   2   3   4   5   6   \\\n",
      "0    `amer-amzaccelerator-data-us-qa.amztech_bqdset... NaN NaN NaN NaN NaN   \n",
      "1                                            SQL Query NaN NaN NaN NaN NaN   \n",
      "2    SELECT SUM(ORDERED_REVENUE) AS ORDERED_REVENUE... NaN NaN NaN NaN NaN   \n",
      "3    SELECT SUM(ORDERED_REVENUE) AS ORDERED_REVENUE... NaN NaN NaN NaN NaN   \n",
      "4    SELECT AVG(AVERAGE_ORDERED_REVENUE_PRICE) FROM... NaN NaN NaN NaN NaN   \n",
      "..                                                 ...  ..  ..  ..  ..  ..   \n",
      "288                                            INTEGER NaN NaN NaN NaN NaN   \n",
      "289                                              FLOAT NaN NaN NaN NaN NaN   \n",
      "290                                              FLOAT NaN NaN NaN NaN NaN   \n",
      "291                                              FLOAT NaN NaN NaN NaN NaN   \n",
      "292                                              FLOAT NaN NaN NaN NaN NaN   \n",
      "\n",
      "     7   8   9   10   11  \n",
      "0   NaN NaN NaN NaN  NaN  \n",
      "1   NaN NaN NaN NaN  NaN  \n",
      "2   NaN NaN NaN NaN       \n",
      "3   NaN NaN NaN NaN       \n",
      "4   NaN NaN NaN NaN       \n",
      "..   ..  ..  ..  ..  ...  \n",
      "288 NaN NaN NaN NaN  NaN  \n",
      "289 NaN NaN NaN NaN  NaN  \n",
      "290 NaN NaN NaN NaN  NaN  \n",
      "291 NaN NaN NaN NaN  NaN  \n",
      "292 NaN NaN NaN NaN  NaN  \n",
      "\n",
      "[293 rows x 12 columns]\n"
     ]
    }
   ],
   "source": [
    "import pandas as pd\n",
    "\n",
    "# Replace 'your_file.xlsx' with the actual path to your XLSX file\n",
    "file_path = 'sql_samples.xlsx'\n",
    "\n",
    "# Read the Excel file into a pandas DataFrame\n",
    "df = pd.read_excel(file_path, header=None)\n",
    "\n",
    "# Display the DataFrame\n",
    "print(df)"
   ]
  },
  {
   "cell_type": "code",
   "execution_count": 29,
   "id": "b8ac6802-1dfc-43d6-a664-3aaee7b8e075",
   "metadata": {},
   "outputs": [],
   "source": [
    "start, end = 0, len(df.iloc[:, 0])\n",
    "for i in range(len(df.iloc[:, 0])):\n",
    "    if df.iloc[i, 0] == \"Schema:\":\n",
    "        start = i + 1"
   ]
  },
  {
   "cell_type": "code",
   "execution_count": 45,
   "id": "f4b2084d-a298-4ac8-8eb0-44a8977c7328",
   "metadata": {},
   "outputs": [],
   "source": [
    "database = []\n",
    "table = {\"column_names\" : [], \"column_types\" : [], \"db_id\" : \"\", \"table_names\" : []}\n",
    "\n",
    "table['column_names'].append([-1, '*'])\n",
    "for i in range(start, end):\n",
    "    table['column_names'].append([0, df.iloc[i, 0]])\n",
    "    table['column_types'].append(df.iloc[i, 1])\n",
    "\n",
    "table['db_id'] = df.iloc[0, 1][1:-2]\n",
    "table['table_names'].append([df.iloc[0, 1][1:-2]])\n",
    "\n",
    "database.append(table)"
   ]
  },
  {
   "cell_type": "code",
   "execution_count": 47,
   "id": "19fc6d1d-e3b9-42c5-a8d6-0a058451d82f",
   "metadata": {},
   "outputs": [],
   "source": [
    "import json\n",
    "\n",
    "file_path = 'sql_samples.json'\n",
    "\n",
    "with open(file_path, 'w') as json_file:\n",
    "    json.dump(database, json_file, indent=2)\n"
   ]
  },
  {
   "cell_type": "code",
   "execution_count": null,
   "id": "5aa60d24-7a3f-4ed2-9bc9-63001d3fca06",
   "metadata": {},
   "outputs": [],
   "source": []
  }
 ],
 "metadata": {
  "kernelspec": {
   "display_name": "Python 3 (ipykernel)",
   "language": "python",
   "name": "python3"
  },
  "language_info": {
   "codemirror_mode": {
    "name": "ipython",
    "version": 3
   },
   "file_extension": ".py",
   "mimetype": "text/x-python",
   "name": "python",
   "nbconvert_exporter": "python",
   "pygments_lexer": "ipython3",
   "version": "3.8.0"
  }
 },
 "nbformat": 4,
 "nbformat_minor": 5
}
